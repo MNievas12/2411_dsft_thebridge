{
 "cells": [
  {
   "cell_type": "code",
   "execution_count": 2,
   "metadata": {},
   "outputs": [],
   "source": [
    "import requests"
   ]
  },
  {
   "cell_type": "code",
   "execution_count": 3,
   "metadata": {},
   "outputs": [
    {
     "name": "stdout",
     "output_type": "stream",
     "text": [
      "b'{\\n  \"author\": \"Vernor Vinge\",\\n  \"first_sentence\": \"The coldsleep itself was dreamless.\",\\n  \"id\": 0,\\n  \"published\": \"1992\",\\n  \"title\": \"Dhalgren\"\\n}\\n'\n"
     ]
    }
   ],
   "source": [
    "# url = \"http://127.0.0.1:5000/v1/books\"\n",
    "# response = requests.get(url)\n",
    "\n",
    "url = \"http://127.0.0.1:5000/v1/books/0\"\n",
    "response = requests.put(url, params={\"title\":\"Dhalgren\"})\n",
    "\n",
    "print(response.content)"
   ]
  },
  {
   "cell_type": "code",
   "execution_count": null,
   "metadata": {},
   "outputs": [],
   "source": []
  }
 ],
 "metadata": {
  "kernelspec": {
   "display_name": "Python 3",
   "language": "python",
   "name": "python3"
  },
  "language_info": {
   "codemirror_mode": {
    "name": "ipython",
    "version": 3
   },
   "file_extension": ".py",
   "mimetype": "text/x-python",
   "name": "python",
   "nbconvert_exporter": "python",
   "pygments_lexer": "ipython3",
   "version": "3.11.3"
  }
 },
 "nbformat": 4,
 "nbformat_minor": 2
}
