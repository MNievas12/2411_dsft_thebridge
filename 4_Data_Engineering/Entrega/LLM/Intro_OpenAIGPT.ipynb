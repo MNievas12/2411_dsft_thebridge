{
 "cells": [
  {
   "cell_type": "markdown",
   "metadata": {},
   "source": [
    "# Intro OpenAI Api"
   ]
  },
  {
   "cell_type": "code",
   "execution_count": 14,
   "metadata": {},
   "outputs": [],
   "source": [
    "# !pip install openai\n",
    "# !pip install python-dotenv"
   ]
  },
  {
   "cell_type": "code",
   "execution_count": 1,
   "metadata": {},
   "outputs": [],
   "source": [
    "from openai import OpenAI\n",
    "import os\n",
    "from dotenv import load_dotenv"
   ]
  },
  {
   "cell_type": "code",
   "execution_count": 2,
   "metadata": {},
   "outputs": [],
   "source": [
    "load_dotenv()\n",
    "api_key = os.getenv(\"OPENAI_API_KEY\")\n",
    "# if not api_key:\n",
    "#     raise ValueError(\"La API key no está definida en las variables de entorno.\")\n",
    "\n",
    "client = OpenAI(api_key=api_key)\n",
    "# print(f\"La API key es: {api_key}\")"
   ]
  },
  {
   "cell_type": "code",
   "execution_count": 3,
   "metadata": {},
   "outputs": [
    {
     "name": "stdout",
     "output_type": "stream",
     "text": [
      "En el vasto campo del Machine Learning,  \n",
      "la regularización brilla con su saber,  \n",
      "como un fiel guardián que evita el overfitting,  \n",
      "protege al modelo de desviarse sin querer.\n",
      "\n",
      "Ridge y Lasso, dos técnicas valiosas,  \n",
      "que suman penalización a los coeficientes,  \n",
      "reduciendo así la complejidad engañosa,  \n",
      "y mejorando así los resultados eficientes.\n",
      "\n",
      "La regularización es como un buen equilibrista,  \n",
      "que encuentra la armonía entre ajuste y generalización,  \n",
      "evitando que el aprendiz tropiece en la pista,  \n",
      "y logre con destreza la predicción.\n",
      "\n",
      "En un mundo de datos y desafíos constantes,  \n",
      "la regularización es el faro que guía,  \n",
      "permitiendo que los modelos sean elegantes,  \n",
      "y en la incertidumbre, siempre confía.\n",
      "\n",
      "Así, con pasos firmes y cálculos precisos,  \n",
      "la regularización en Machine Learning brillará,  \n",
      "como un poema cautivador y conciso,  \n",
      "que en la complejidad, la belleza mostrará.\n"
     ]
    }
   ],
   "source": [
    "\n",
    "# client = OpenAI(api_key=\"\")\n",
    "\n",
    "completion = client.chat.completions.create(\n",
    "  model=\"gpt-3.5-turbo\",\n",
    "  messages=[\n",
    "    {\"role\": \"system\", \"content\": \"You are the best poetic assistant, skilled in explaining complex programming concepts with creative flair. Write it in spanish.\"},\n",
    "    {\"role\": \"user\", \"content\": \"Compose a poem that explains the concept regularization in Machine learning.\"}\n",
    "  ]\n",
    ")\n",
    "\n",
    "print(completion.choices[0].message.content)"
   ]
  },
  {
   "cell_type": "code",
   "execution_count": null,
   "metadata": {},
   "outputs": [],
   "source": []
  }
 ],
 "metadata": {
  "kernelspec": {
   "display_name": "Python 3",
   "language": "python",
   "name": "python3"
  },
  "language_info": {
   "codemirror_mode": {
    "name": "ipython",
    "version": 3
   },
   "file_extension": ".py",
   "mimetype": "text/x-python",
   "name": "python",
   "nbconvert_exporter": "python",
   "pygments_lexer": "ipython3",
   "version": "3.11.3"
  }
 },
 "nbformat": 4,
 "nbformat_minor": 2
}
