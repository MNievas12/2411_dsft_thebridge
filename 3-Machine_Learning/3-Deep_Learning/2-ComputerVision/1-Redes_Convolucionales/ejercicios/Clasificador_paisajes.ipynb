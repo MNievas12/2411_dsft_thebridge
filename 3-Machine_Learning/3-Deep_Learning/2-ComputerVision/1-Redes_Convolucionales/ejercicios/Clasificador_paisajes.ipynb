{
 "cells": [
  {
   "attachments": {},
   "cell_type": "markdown",
   "metadata": {},
   "source": [
    "# Clasificador paisajes\n",
    "Para este ejercicio vas a crear un clasificador automático de paisajes. Los datos los encontrarás en el Classroom como `seg_train.zip` y `seg_test.zip`. Se pide:\n",
    "1. Cargar las imágenes. Mira cómo están almacenados los datos. Tendrás que recorrer las carpetas, cargar las imágenes en memoria y etiquetarlas con los nombres de las carpetas. Realiza un reshape de cada imagen (comienza el ejercicio con 32x32, para ir más rápido en las ejecuciones).\n",
    "2. Investiga las imágenes, comprueba con algunas muestras que has cargado bien los datos.\n",
    "3. Normaliza\n",
    "4. Diseña la arquitectura de la red. Recuerda que es un algoritmo de clasificación. Ojo con las dimensiones de la entrada\n",
    "5. Reserva un 20% de los datos del entrenamiento para validar.\n",
    "6. Representa el objeto history\n",
    "7. Evalua el modelo con los datos de test\n",
    "8. Representa algunos de los paisajes donde el modelo comete errores\n",
    "9. Crea una matriz de confusión con los errores del modelo\n",
    "\n",
    "**NOTA apartado 1**: para el apartado 1 tendras que recorre las carpetas/imagenes con `os.listdir()`, e ir cargando todas las imagenes como arrays de numpy\n",
    "\n",
    "**NOTA apartado 4**: empieza con un par de capas Conv2D + MaxPooling2D con activación relu y después la fully connected layer. on softmax como ultima capa"
   ]
  },
  {
   "cell_type": "code",
   "execution_count": 6,
   "metadata": {},
   "outputs": [],
   "source": [
    "ruta = \"D:/Bootcamps_DS/datasets/paisajes\""
   ]
  },
  {
   "cell_type": "code",
   "execution_count": 2,
   "metadata": {},
   "outputs": [],
   "source": [
    "import numpy as np\n",
    "import pandas as pd\n",
    "import matplotlib.pyplot as plt\n",
    "import seaborn as sns\n",
    "\n",
    "import os\n",
    "import cv2\n",
    "from skimage.io import imread\n",
    "\n",
    "from tensorflow import keras\n",
    "from sklearn.metrics import confusion_matrix"
   ]
  },
  {
   "cell_type": "code",
   "execution_count": 3,
   "metadata": {},
   "outputs": [
    {
     "data": {
      "text/plain": [
       "{'buildings': 0,\n",
       " 'forest': 1,\n",
       " 'glacier': 2,\n",
       " 'mountain': 3,\n",
       " 'sea': 4,\n",
       " 'street': 5}"
      ]
     },
     "execution_count": 3,
     "metadata": {},
     "output_type": "execute_result"
    }
   ],
   "source": [
    "class_names = ['buildings', 'forest', 'glacier', 'mountain', 'sea', 'street']\n",
    "class_names_label = {class_name:i for i, class_name in enumerate(class_names)}\n",
    "class_names_label"
   ]
  },
  {
   "cell_type": "code",
   "execution_count": 4,
   "metadata": {},
   "outputs": [
    {
     "data": {
      "text/plain": [
       "'d:\\\\Bootcamps_DS\\\\24_11_Bootcamp_DS\\\\2411_dsft_thebridge\\\\3-Machine_Learning\\\\3-Deep_Learning\\\\2-ComputerVision\\\\1-Redes_Convolucionales\\\\ejercicios'"
      ]
     },
     "execution_count": 4,
     "metadata": {},
     "output_type": "execute_result"
    }
   ],
   "source": [
    "os.getcwd()"
   ]
  },
  {
   "cell_type": "code",
   "execution_count": 5,
   "metadata": {},
   "outputs": [
    {
     "data": {
      "text/plain": [
       "['Clasificador_paisajes.ipynb']"
      ]
     },
     "execution_count": 5,
     "metadata": {},
     "output_type": "execute_result"
    }
   ],
   "source": [
    "os.listdir()"
   ]
  },
  {
   "cell_type": "code",
   "execution_count": 8,
   "metadata": {},
   "outputs": [
    {
     "data": {
      "text/plain": [
       "['buildings', 'forest', 'glacier', 'mountain', 'sea', 'street']"
      ]
     },
     "execution_count": 8,
     "metadata": {},
     "output_type": "execute_result"
    }
   ],
   "source": [
    "os.listdir(ruta + \"/seg_train\")"
   ]
  },
  {
   "cell_type": "code",
   "execution_count": 11,
   "metadata": {},
   "outputs": [],
   "source": [
    "IMAGE_SIZE = (32,32)\n",
    "TRAIN_PATH = ruta + \"/seg_train\"\n",
    "TEST_PATH = ruta + \"/seg_test\""
   ]
  },
  {
   "cell_type": "code",
   "execution_count": 13,
   "metadata": {},
   "outputs": [],
   "source": [
    "def read_data(path, im_size, class_names_label):\n",
    "    X = []\n",
    "    y = []\n",
    "\n",
    "    for folder in os.listdir(path):\n",
    "        print(\"Recorriendo\", folder, \"...\")\n",
    "        label = class_names_label[folder]\n",
    "        folder_path = path + \"/\" + folder\n",
    "        for file in os.listdir(folder_path):\n",
    "            image_path = folder_path + \"/\" + file\n",
    "            try:\n",
    "                image = imread(image_path)\n",
    "                smallimage = cv2.resize(image, im_size)\n",
    "                X.append(smallimage)\n",
    "                y.append(label)\n",
    "            except Exception as e:\n",
    "                print(\"Error en la lectura\", image_path)\n",
    "                print(e)\n",
    "    return np.array(X), np.array(y)"
   ]
  },
  {
   "cell_type": "code",
   "execution_count": 14,
   "metadata": {},
   "outputs": [
    {
     "name": "stdout",
     "output_type": "stream",
     "text": [
      "Recorriendo buildings ...\n",
      "Recorriendo forest ...\n",
      "Recorriendo glacier ...\n",
      "Recorriendo mountain ...\n",
      "Recorriendo sea ...\n",
      "Recorriendo street ...\n",
      "Recorriendo buildings ...\n",
      "Recorriendo forest ...\n",
      "Recorriendo glacier ...\n",
      "Recorriendo mountain ...\n",
      "Recorriendo sea ...\n",
      "Recorriendo street ...\n"
     ]
    }
   ],
   "source": [
    "X_train, y_train = read_data(TRAIN_PATH, IMAGE_SIZE, class_names_label)\n",
    "X_test, y_test = read_data(TEST_PATH, IMAGE_SIZE, class_names_label)"
   ]
  },
  {
   "cell_type": "code",
   "execution_count": 17,
   "metadata": {},
   "outputs": [
    {
     "name": "stdout",
     "output_type": "stream",
     "text": [
      "(14034, 32, 32, 3)\n",
      "(3000, 32, 32, 3)\n",
      "(14034,)\n",
      "(3000,)\n"
     ]
    }
   ],
   "source": [
    "print(X_train.shape)\n",
    "print(X_test.shape)\n",
    "print(y_train.shape)\n",
    "print(y_test.shape)"
   ]
  },
  {
   "cell_type": "code",
   "execution_count": 18,
   "metadata": {},
   "outputs": [
    {
     "data": {
      "text/plain": [
       "3    2512\n",
       "2    2404\n",
       "5    2382\n",
       "4    2274\n",
       "1    2271\n",
       "0    2191\n",
       "dtype: int64"
      ]
     },
     "execution_count": 18,
     "metadata": {},
     "output_type": "execute_result"
    }
   ],
   "source": [
    "pd.Series(y_train).value_counts()"
   ]
  },
  {
   "cell_type": "code",
   "execution_count": 19,
   "metadata": {},
   "outputs": [
    {
     "data": {
      "text/plain": [
       "2    553\n",
       "3    525\n",
       "4    510\n",
       "5    501\n",
       "1    474\n",
       "0    437\n",
       "dtype: int64"
      ]
     },
     "execution_count": 19,
     "metadata": {},
     "output_type": "execute_result"
    }
   ],
   "source": [
    "pd.Series(y_test).value_counts()"
   ]
  },
  {
   "cell_type": "code",
   "execution_count": 20,
   "metadata": {},
   "outputs": [
    {
     "data": {
      "text/plain": [
       "array([0, 0, 0, 0, 0, 0, 0, 0, 0, 0, 0, 0, 0, 0, 0, 0, 0, 0, 0, 0, 0, 0,\n",
       "       0, 0, 0, 0, 0, 0, 0, 0, 0, 0, 0, 0, 0, 0, 0, 0, 0, 0, 0, 0, 0, 0,\n",
       "       0, 0, 0, 0, 0, 0, 0, 0, 0, 0, 0, 0, 0, 0, 0, 0, 0, 0, 0, 0, 0, 0,\n",
       "       0, 0, 0, 0, 0, 0, 0, 0, 0, 0, 0, 0, 0, 0, 0, 0, 0, 0, 0, 0, 0, 0,\n",
       "       0, 0, 0, 0, 0, 0, 0, 0, 0, 0, 0, 0])"
      ]
     },
     "execution_count": 20,
     "metadata": {},
     "output_type": "execute_result"
    }
   ],
   "source": [
    "y_train[:100]"
   ]
  },
  {
   "cell_type": "code",
   "execution_count": 21,
   "metadata": {},
   "outputs": [],
   "source": [
    "from sklearn.utils import shuffle\n",
    "\n",
    "X_train, y_train = shuffle(X_train, y_train, random_state=42)\n",
    "X_test, y_test = shuffle(X_test, y_test, random_state=42)"
   ]
  },
  {
   "cell_type": "code",
   "execution_count": 22,
   "metadata": {},
   "outputs": [
    {
     "data": {
      "text/plain": [
       "array([3, 2, 3, 0, 5, 2, 2, 4, 0, 5, 4, 0, 1, 3, 5, 1, 2, 1, 5, 5, 0, 0,\n",
       "       2, 4, 2, 5, 5, 2, 0, 2, 2, 3, 1, 5, 0, 1, 4, 0, 0, 2, 0, 0, 0, 1,\n",
       "       3, 3, 4, 0, 5, 3, 2, 4, 0, 4, 0, 5, 2, 1, 5, 2, 1, 1, 1, 0, 0, 2,\n",
       "       2, 3, 3, 1, 3, 5, 5, 3, 0, 1, 4, 5, 4, 4, 3, 3, 1, 3, 4, 0, 5, 2,\n",
       "       4, 5, 0, 2, 4, 2, 3, 0, 5, 4, 0, 3])"
      ]
     },
     "execution_count": 22,
     "metadata": {},
     "output_type": "execute_result"
    }
   ],
   "source": [
    "y_test[:100]"
   ]
  },
  {
   "cell_type": "code",
   "execution_count": 57,
   "metadata": {},
   "outputs": [
    {
     "name": "stdout",
     "output_type": "stream",
     "text": [
      "mountain\n"
     ]
    },
    {
     "data": {
      "text/plain": [
       "<matplotlib.image.AxesImage at 0x2c38f7c9450>"
      ]
     },
     "execution_count": 57,
     "metadata": {},
     "output_type": "execute_result"
    },
    {
     "data": {
      "image/png": "[encoded data removed]",
      "text/plain": [
       "<Figure size 640x480 with 1 Axes>"
      ]
     },
     "metadata": {},
     "output_type": "display_data"
    }
   ],
   "source": [
    "index = np.random.randint(X_train.shape[0])\n",
    "print(class_names[y_train[index]])\n",
    "plt.imshow(X_train[index])"
   ]
  },
  {
   "cell_type": "code",
   "execution_count": 58,
   "metadata": {},
   "outputs": [
    {
     "data": {
      "text/plain": [
       "array([[[[225, 225, 225],\n",
       "         [221, 223, 222],\n",
       "         [221, 223, 222],\n",
       "         ...,\n",
       "         [237, 237, 237],\n",
       "         [238, 238, 238],\n",
       "         [240, 240, 240]],\n",
       "\n",
       "        [[230, 230, 230],\n",
       "         [227, 227, 227],\n",
       "         [232, 232, 232],\n",
       "         ...,\n",
       "         [244, 244, 244],\n",
       "         [244, 244, 244],\n",
       "         [246, 246, 246]],\n",
       "\n",
       "        [[ 55,  55,  55],\n",
       "         [223, 223, 223],\n",
       "         [ 88,  87,  88],\n",
       "         ...,\n",
       "         [245, 245, 245],\n",
       "         [246, 246, 246],\n",
       "         [246, 246, 246]],\n",
       "\n",
       "        ...,\n",
       "\n",
       "        [[114, 112, 111],\n",
       "         [ 97,  96,  94],\n",
       "         [125, 123, 124],\n",
       "         ...,\n",
       "         [ 90,  89,  87],\n",
       "         [ 88,  87,  85],\n",
       "         [ 92,  91,  89]],\n",
       "\n",
       "        [[153, 152, 150],\n",
       "         [113, 112, 110],\n",
       "         [123, 121, 122],\n",
       "         ...,\n",
       "         [ 83,  82,  79],\n",
       "         [ 68,  67,  65],\n",
       "         [ 80,  79,  77]],\n",
       "\n",
       "        [[131, 130, 128],\n",
       "         [133, 132, 130],\n",
       "         [128, 126, 125],\n",
       "         ...,\n",
       "         [128, 127, 125],\n",
       "         [138, 138, 136],\n",
       "         [130, 128, 129]]],\n",
       "\n",
       "\n",
       "       [[[ 92, 157, 223],\n",
       "         [ 93, 158, 224],\n",
       "         [ 93, 158, 224],\n",
       "         ...,\n",
       "         [147, 143, 157],\n",
       "         [163,  93,  44],\n",
       "         [201, 162,  82]],\n",
       "\n",
       "        [[ 94, 162, 225],\n",
       "         [ 94, 162, 225],\n",
       "         [ 94, 162, 225],\n",
       "         ...,\n",
       "         [150, 150, 167],\n",
       "         [176, 116,  69],\n",
       "         [198, 149,  58]],\n",
       "\n",
       "        [[ 99, 164, 226],\n",
       "         [100, 166, 226],\n",
       "         [ 97, 165, 226],\n",
       "         ...,\n",
       "         [169, 173, 204],\n",
       "         [137,  60,  35],\n",
       "         [171, 109,  44]],\n",
       "\n",
       "        ...,\n",
       "\n",
       "        [[ 98,  99, 103],\n",
       "         [ 97,  98, 101],\n",
       "         [107, 108, 110],\n",
       "         ...,\n",
       "         [112,  96,  88],\n",
       "         [114,  99,  91],\n",
       "         [111,  97,  84]],\n",
       "\n",
       "        [[ 79,  84,  88],\n",
       "         [102, 106, 109],\n",
       "         [113, 114, 117],\n",
       "         ...,\n",
       "         [111,  96,  86],\n",
       "         [106,  92,  82],\n",
       "         [111,  94,  84]],\n",
       "\n",
       "        [[108, 112, 113],\n",
       "         [109, 113, 114],\n",
       "         [110, 111, 112],\n",
       "         ...,\n",
       "         [111,  95,  87],\n",
       "         [103,  89,  78],\n",
       "         [119, 105,  96]]],\n",
       "\n",
       "\n",
       "       [[[185, 126, 110],\n",
       "         [187, 129, 111],\n",
       "         [221, 202, 196],\n",
       "         ...,\n",
       "         [171, 221, 254],\n",
       "         [172, 221, 254],\n",
       "         [175, 221, 254]],\n",
       "\n",
       "        [[185, 124, 119],\n",
       "         [189, 131, 119],\n",
       "         [203, 159, 147],\n",
       "         ...,\n",
       "         [177, 224, 254],\n",
       "         [178, 225, 254],\n",
       "         [180, 226, 252]],\n",
       "\n",
       "        [[184, 128, 115],\n",
       "         [186, 127, 113],\n",
       "         [175, 133, 126],\n",
       "         ...,\n",
       "         [183, 229, 253],\n",
       "         [185, 231, 255],\n",
       "         [184, 231, 254]],\n",
       "\n",
       "        ...,\n",
       "\n",
       "        [[108,  78,  75],\n",
       "         [103,  73,  71],\n",
       "         [104,  74,  72],\n",
       "         ...,\n",
       "         [151, 121, 122],\n",
       "         [159, 129, 130],\n",
       "         [168, 145, 139]],\n",
       "\n",
       "        [[101,  71,  69],\n",
       "         [105,  75,  73],\n",
       "         [106,  76,  76],\n",
       "         ...,\n",
       "         [137, 113, 112],\n",
       "         [142, 117, 117],\n",
       "         [139, 119, 118]],\n",
       "\n",
       "        [[108,  78,  76],\n",
       "         [113,  81,  80],\n",
       "         [111,  78,  77],\n",
       "         ...,\n",
       "         [140, 115, 111],\n",
       "         [143, 117, 116],\n",
       "         [141, 116, 115]]],\n",
       "\n",
       "\n",
       "       ...,\n",
       "\n",
       "\n",
       "       [[[157, 165, 184],\n",
       "         [152, 163, 181],\n",
       "         [160, 168, 189],\n",
       "         ...,\n",
       "         [179, 191, 207],\n",
       "         [180, 192, 208],\n",
       "         [182, 194, 210]],\n",
       "\n",
       "        [[163, 173, 191],\n",
       "         [159, 170, 188],\n",
       "         [158, 166, 185],\n",
       "         ...,\n",
       "         [186, 198, 214],\n",
       "         [183, 195, 211],\n",
       "         [182, 195, 211]],\n",
       "\n",
       "        [[164, 176, 192],\n",
       "         [164, 176, 192],\n",
       "         [163, 174, 192],\n",
       "         ...,\n",
       "         [189, 201, 217],\n",
       "         [186, 198, 214],\n",
       "         [184, 196, 212]],\n",
       "\n",
       "        ...,\n",
       "\n",
       "        [[ 29,  71,  90],\n",
       "         [ 68, 107, 125],\n",
       "         [ 95, 129, 141],\n",
       "         ...,\n",
       "         [117, 165, 189],\n",
       "         [159, 193, 202],\n",
       "         [ 92, 134, 151]],\n",
       "\n",
       "        [[ 89, 126, 143],\n",
       "         [ 64, 109, 127],\n",
       "         [ 89, 130, 152],\n",
       "         ...,\n",
       "         [108, 155, 177],\n",
       "         [ 94, 148, 173],\n",
       "         [134, 173, 191]],\n",
       "\n",
       "        [[167, 191, 199],\n",
       "         [ 92, 130, 148],\n",
       "         [ 76, 120, 138],\n",
       "         ...,\n",
       "         [ 92, 137, 164],\n",
       "         [102, 149, 173],\n",
       "         [ 93, 139, 162]]],\n",
       "\n",
       "\n",
       "       [[[ 98, 147, 203],\n",
       "         [ 99, 146, 202],\n",
       "         [ 98, 145, 201],\n",
       "         ...,\n",
       "         [ 65, 116, 179],\n",
       "         [ 65, 116, 179],\n",
       "         [ 64, 115, 178]],\n",
       "\n",
       "        [[100, 149, 205],\n",
       "         [100, 147, 203],\n",
       "         [ 99, 146, 202],\n",
       "         ...,\n",
       "         [ 67, 118, 181],\n",
       "         [ 67, 118, 181],\n",
       "         [ 63, 117, 179]],\n",
       "\n",
       "        [[103, 150, 206],\n",
       "         [102, 149, 205],\n",
       "         [100, 147, 205],\n",
       "         ...,\n",
       "         [ 68, 119, 184],\n",
       "         [ 69, 120, 185],\n",
       "         [ 66, 120, 182]],\n",
       "\n",
       "        ...,\n",
       "\n",
       "        [[ 64,  73,  71],\n",
       "         [ 53,  63,  59],\n",
       "         [ 71,  81,  83],\n",
       "         ...,\n",
       "         [ 97, 109, 119],\n",
       "         [ 69,  72,  86],\n",
       "         [144, 141, 148]],\n",
       "\n",
       "        [[ 51,  61,  57],\n",
       "         [ 48,  52,  44],\n",
       "         [ 72,  81,  71],\n",
       "         ...,\n",
       "         [ 46,  50,  61],\n",
       "         [ 53,  54,  69],\n",
       "         [ 56,  58,  64]],\n",
       "\n",
       "        [[ 90, 103,  33],\n",
       "         [ 96, 104,  39],\n",
       "         [ 99, 108,  45],\n",
       "         ...,\n",
       "         [ 44,  53,  62],\n",
       "         [ 18,  17,  19],\n",
       "         [ 27,  26,  18]]],\n",
       "\n",
       "\n",
       "       [[[131, 161, 199],\n",
       "         [133, 161, 200],\n",
       "         [133, 161, 200],\n",
       "         ...,\n",
       "         [157, 177, 204],\n",
       "         [149, 172, 204],\n",
       "         [145, 170, 201]],\n",
       "\n",
       "        [[131, 161, 199],\n",
       "         [133, 161, 200],\n",
       "         [133, 161, 200],\n",
       "         ...,\n",
       "         [157, 176, 204],\n",
       "         [160, 179, 210],\n",
       "         [161, 179, 208]],\n",
       "\n",
       "        [[131, 161, 199],\n",
       "         [133, 161, 200],\n",
       "         [134, 162, 201],\n",
       "         ...,\n",
       "         [168, 184, 207],\n",
       "         [157, 174, 200],\n",
       "         [151, 172, 203]],\n",
       "\n",
       "        ...,\n",
       "\n",
       "        [[104, 122, 157],\n",
       "         [104, 123, 155],\n",
       "         [117, 135, 164],\n",
       "         ...,\n",
       "         [139, 148, 170],\n",
       "         [130, 136, 163],\n",
       "         [109, 120, 151]],\n",
       "\n",
       "        [[103, 119, 162],\n",
       "         [102, 120, 159],\n",
       "         [109, 125, 163],\n",
       "         ...,\n",
       "         [118, 133, 162],\n",
       "         [119, 126, 159],\n",
       "         [113, 121, 157]],\n",
       "\n",
       "        [[ 91, 105, 144],\n",
       "         [ 98, 111, 150],\n",
       "         [ 98, 112, 150],\n",
       "         ...,\n",
       "         [113, 128, 157],\n",
       "         [114, 129, 158],\n",
       "         [113, 127, 157]]]], dtype=uint8)"
      ]
     },
     "execution_count": 58,
     "metadata": {},
     "output_type": "execute_result"
    }
   ],
   "source": [
    "X_train"
   ]
  },
  {
   "cell_type": "code",
   "execution_count": 59,
   "metadata": {},
   "outputs": [],
   "source": [
    "X_train = X_train/255\n",
    "X_test = X_test/255"
   ]
  },
  {
   "cell_type": "code",
   "execution_count": 60,
   "metadata": {},
   "outputs": [
    {
     "data": {
      "text/plain": [
       "array([[[[0.88235294, 0.88235294, 0.88235294],\n",
       "         [0.86666667, 0.8745098 , 0.87058824],\n",
       "         [0.86666667, 0.8745098 , 0.87058824],\n",
       "         ...,\n",
       "         [0.92941176, 0.92941176, 0.92941176],\n",
       "         [0.93333333, 0.93333333, 0.93333333],\n",
       "         [0.94117647, 0.94117647, 0.94117647]],\n",
       "\n",
       "        [[0.90196078, 0.90196078, 0.90196078],\n",
       "         [0.89019608, 0.89019608, 0.89019608],\n",
       "         [0.90980392, 0.90980392, 0.90980392],\n",
       "         ...,\n",
       "         [0.95686275, 0.95686275, 0.95686275],\n",
       "         [0.95686275, 0.95686275, 0.95686275],\n",
       "         [0.96470588, 0.96470588, 0.96470588]],\n",
       "\n",
       "        [[0.21568627, 0.21568627, 0.21568627],\n",
       "         [0.8745098 , 0.8745098 , 0.8745098 ],\n",
       "         [0.34509804, 0.34117647, 0.34509804],\n",
       "         ...,\n",
       "         [0.96078431, 0.96078431, 0.96078431],\n",
       "         [0.96470588, 0.96470588, 0.96470588],\n",
       "         [0.96470588, 0.96470588, 0.96470588]],\n",
       "\n",
       "        ...,\n",
       "\n",
       "        [[0.44705882, 0.43921569, 0.43529412],\n",
       "         [0.38039216, 0.37647059, 0.36862745],\n",
       "         [0.49019608, 0.48235294, 0.48627451],\n",
       "         ...,\n",
       "         [0.35294118, 0.34901961, 0.34117647],\n",
       "         [0.34509804, 0.34117647, 0.33333333],\n",
       "         [0.36078431, 0.35686275, 0.34901961]],\n",
       "\n",
       "        [[0.6       , 0.59607843, 0.58823529],\n",
       "         [0.44313725, 0.43921569, 0.43137255],\n",
       "         [0.48235294, 0.4745098 , 0.47843137],\n",
       "         ...,\n",
       "         [0.3254902 , 0.32156863, 0.30980392],\n",
       "         [0.26666667, 0.2627451 , 0.25490196],\n",
       "         [0.31372549, 0.30980392, 0.30196078]],\n",
       "\n",
       "        [[0.51372549, 0.50980392, 0.50196078],\n",
       "         [0.52156863, 0.51764706, 0.50980392],\n",
       "         [0.50196078, 0.49411765, 0.49019608],\n",
       "         ...,\n",
       "         [0.50196078, 0.49803922, 0.49019608],\n",
       "         [0.54117647, 0.54117647, 0.53333333],\n",
       "         [0.50980392, 0.50196078, 0.50588235]]],\n",
       "\n",
       "\n",
       "       [[[0.36078431, 0.61568627, 0.8745098 ],\n",
       "         [0.36470588, 0.61960784, 0.87843137],\n",
       "         [0.36470588, 0.61960784, 0.87843137],\n",
       "         ...,\n",
       "         [0.57647059, 0.56078431, 0.61568627],\n",
       "         [0.63921569, 0.36470588, 0.17254902],\n",
       "         [0.78823529, 0.63529412, 0.32156863]],\n",
       "\n",
       "        [[0.36862745, 0.63529412, 0.88235294],\n",
       "         [0.36862745, 0.63529412, 0.88235294],\n",
       "         [0.36862745, 0.63529412, 0.88235294],\n",
       "         ...,\n",
       "         [0.58823529, 0.58823529, 0.65490196],\n",
       "         [0.69019608, 0.45490196, 0.27058824],\n",
       "         [0.77647059, 0.58431373, 0.22745098]],\n",
       "\n",
       "        [[0.38823529, 0.64313725, 0.88627451],\n",
       "         [0.39215686, 0.65098039, 0.88627451],\n",
       "         [0.38039216, 0.64705882, 0.88627451],\n",
       "         ...,\n",
       "         [0.6627451 , 0.67843137, 0.8       ],\n",
       "         [0.5372549 , 0.23529412, 0.1372549 ],\n",
       "         [0.67058824, 0.42745098, 0.17254902]],\n",
       "\n",
       "        ...,\n",
       "\n",
       "        [[0.38431373, 0.38823529, 0.40392157],\n",
       "         [0.38039216, 0.38431373, 0.39607843],\n",
       "         [0.41960784, 0.42352941, 0.43137255],\n",
       "         ...,\n",
       "         [0.43921569, 0.37647059, 0.34509804],\n",
       "         [0.44705882, 0.38823529, 0.35686275],\n",
       "         [0.43529412, 0.38039216, 0.32941176]],\n",
       "\n",
       "        [[0.30980392, 0.32941176, 0.34509804],\n",
       "         [0.4       , 0.41568627, 0.42745098],\n",
       "         [0.44313725, 0.44705882, 0.45882353],\n",
       "         ...,\n",
       "         [0.43529412, 0.37647059, 0.3372549 ],\n",
       "         [0.41568627, 0.36078431, 0.32156863],\n",
       "         [0.43529412, 0.36862745, 0.32941176]],\n",
       "\n",
       "        [[0.42352941, 0.43921569, 0.44313725],\n",
       "         [0.42745098, 0.44313725, 0.44705882],\n",
       "         [0.43137255, 0.43529412, 0.43921569],\n",
       "         ...,\n",
       "         [0.43529412, 0.37254902, 0.34117647],\n",
       "         [0.40392157, 0.34901961, 0.30588235],\n",
       "         [0.46666667, 0.41176471, 0.37647059]]],\n",
       "\n",
       "\n",
       "       [[[0.7254902 , 0.49411765, 0.43137255],\n",
       "         [0.73333333, 0.50588235, 0.43529412],\n",
       "         [0.86666667, 0.79215686, 0.76862745],\n",
       "         ...,\n",
       "         [0.67058824, 0.86666667, 0.99607843],\n",
       "         [0.6745098 , 0.86666667, 0.99607843],\n",
       "         [0.68627451, 0.86666667, 0.99607843]],\n",
       "\n",
       "        [[0.7254902 , 0.48627451, 0.46666667],\n",
       "         [0.74117647, 0.51372549, 0.46666667],\n",
       "         [0.79607843, 0.62352941, 0.57647059],\n",
       "         ...,\n",
       "         [0.69411765, 0.87843137, 0.99607843],\n",
       "         [0.69803922, 0.88235294, 0.99607843],\n",
       "         [0.70588235, 0.88627451, 0.98823529]],\n",
       "\n",
       "        [[0.72156863, 0.50196078, 0.45098039],\n",
       "         [0.72941176, 0.49803922, 0.44313725],\n",
       "         [0.68627451, 0.52156863, 0.49411765],\n",
       "         ...,\n",
       "         [0.71764706, 0.89803922, 0.99215686],\n",
       "         [0.7254902 , 0.90588235, 1.        ],\n",
       "         [0.72156863, 0.90588235, 0.99607843]],\n",
       "\n",
       "        ...,\n",
       "\n",
       "        [[0.42352941, 0.30588235, 0.29411765],\n",
       "         [0.40392157, 0.28627451, 0.27843137],\n",
       "         [0.40784314, 0.29019608, 0.28235294],\n",
       "         ...,\n",
       "         [0.59215686, 0.4745098 , 0.47843137],\n",
       "         [0.62352941, 0.50588235, 0.50980392],\n",
       "         [0.65882353, 0.56862745, 0.54509804]],\n",
       "\n",
       "        [[0.39607843, 0.27843137, 0.27058824],\n",
       "         [0.41176471, 0.29411765, 0.28627451],\n",
       "         [0.41568627, 0.29803922, 0.29803922],\n",
       "         ...,\n",
       "         [0.5372549 , 0.44313725, 0.43921569],\n",
       "         [0.55686275, 0.45882353, 0.45882353],\n",
       "         [0.54509804, 0.46666667, 0.4627451 ]],\n",
       "\n",
       "        [[0.42352941, 0.30588235, 0.29803922],\n",
       "         [0.44313725, 0.31764706, 0.31372549],\n",
       "         [0.43529412, 0.30588235, 0.30196078],\n",
       "         ...,\n",
       "         [0.54901961, 0.45098039, 0.43529412],\n",
       "         [0.56078431, 0.45882353, 0.45490196],\n",
       "         [0.55294118, 0.45490196, 0.45098039]]],\n",
       "\n",
       "\n",
       "       ...,\n",
       "\n",
       "\n",
       "       [[[0.61568627, 0.64705882, 0.72156863],\n",
       "         [0.59607843, 0.63921569, 0.70980392],\n",
       "         [0.62745098, 0.65882353, 0.74117647],\n",
       "         ...,\n",
       "         [0.70196078, 0.74901961, 0.81176471],\n",
       "         [0.70588235, 0.75294118, 0.81568627],\n",
       "         [0.71372549, 0.76078431, 0.82352941]],\n",
       "\n",
       "        [[0.63921569, 0.67843137, 0.74901961],\n",
       "         [0.62352941, 0.66666667, 0.7372549 ],\n",
       "         [0.61960784, 0.65098039, 0.7254902 ],\n",
       "         ...,\n",
       "         [0.72941176, 0.77647059, 0.83921569],\n",
       "         [0.71764706, 0.76470588, 0.82745098],\n",
       "         [0.71372549, 0.76470588, 0.82745098]],\n",
       "\n",
       "        [[0.64313725, 0.69019608, 0.75294118],\n",
       "         [0.64313725, 0.69019608, 0.75294118],\n",
       "         [0.63921569, 0.68235294, 0.75294118],\n",
       "         ...,\n",
       "         [0.74117647, 0.78823529, 0.85098039],\n",
       "         [0.72941176, 0.77647059, 0.83921569],\n",
       "         [0.72156863, 0.76862745, 0.83137255]],\n",
       "\n",
       "        ...,\n",
       "\n",
       "        [[0.11372549, 0.27843137, 0.35294118],\n",
       "         [0.26666667, 0.41960784, 0.49019608],\n",
       "         [0.37254902, 0.50588235, 0.55294118],\n",
       "         ...,\n",
       "         [0.45882353, 0.64705882, 0.74117647],\n",
       "         [0.62352941, 0.75686275, 0.79215686],\n",
       "         [0.36078431, 0.5254902 , 0.59215686]],\n",
       "\n",
       "        [[0.34901961, 0.49411765, 0.56078431],\n",
       "         [0.25098039, 0.42745098, 0.49803922],\n",
       "         [0.34901961, 0.50980392, 0.59607843],\n",
       "         ...,\n",
       "         [0.42352941, 0.60784314, 0.69411765],\n",
       "         [0.36862745, 0.58039216, 0.67843137],\n",
       "         [0.5254902 , 0.67843137, 0.74901961]],\n",
       "\n",
       "        [[0.65490196, 0.74901961, 0.78039216],\n",
       "         [0.36078431, 0.50980392, 0.58039216],\n",
       "         [0.29803922, 0.47058824, 0.54117647],\n",
       "         ...,\n",
       "         [0.36078431, 0.5372549 , 0.64313725],\n",
       "         [0.4       , 0.58431373, 0.67843137],\n",
       "         [0.36470588, 0.54509804, 0.63529412]]],\n",
       "\n",
       "\n",
       "       [[[0.38431373, 0.57647059, 0.79607843],\n",
       "         [0.38823529, 0.57254902, 0.79215686],\n",
       "         [0.38431373, 0.56862745, 0.78823529],\n",
       "         ...,\n",
       "         [0.25490196, 0.45490196, 0.70196078],\n",
       "         [0.25490196, 0.45490196, 0.70196078],\n",
       "         [0.25098039, 0.45098039, 0.69803922]],\n",
       "\n",
       "        [[0.39215686, 0.58431373, 0.80392157],\n",
       "         [0.39215686, 0.57647059, 0.79607843],\n",
       "         [0.38823529, 0.57254902, 0.79215686],\n",
       "         ...,\n",
       "         [0.2627451 , 0.4627451 , 0.70980392],\n",
       "         [0.2627451 , 0.4627451 , 0.70980392],\n",
       "         [0.24705882, 0.45882353, 0.70196078]],\n",
       "\n",
       "        [[0.40392157, 0.58823529, 0.80784314],\n",
       "         [0.4       , 0.58431373, 0.80392157],\n",
       "         [0.39215686, 0.57647059, 0.80392157],\n",
       "         ...,\n",
       "         [0.26666667, 0.46666667, 0.72156863],\n",
       "         [0.27058824, 0.47058824, 0.7254902 ],\n",
       "         [0.25882353, 0.47058824, 0.71372549]],\n",
       "\n",
       "        ...,\n",
       "\n",
       "        [[0.25098039, 0.28627451, 0.27843137],\n",
       "         [0.20784314, 0.24705882, 0.23137255],\n",
       "         [0.27843137, 0.31764706, 0.3254902 ],\n",
       "         ...,\n",
       "         [0.38039216, 0.42745098, 0.46666667],\n",
       "         [0.27058824, 0.28235294, 0.3372549 ],\n",
       "         [0.56470588, 0.55294118, 0.58039216]],\n",
       "\n",
       "        [[0.2       , 0.23921569, 0.22352941],\n",
       "         [0.18823529, 0.20392157, 0.17254902],\n",
       "         [0.28235294, 0.31764706, 0.27843137],\n",
       "         ...,\n",
       "         [0.18039216, 0.19607843, 0.23921569],\n",
       "         [0.20784314, 0.21176471, 0.27058824],\n",
       "         [0.21960784, 0.22745098, 0.25098039]],\n",
       "\n",
       "        [[0.35294118, 0.40392157, 0.12941176],\n",
       "         [0.37647059, 0.40784314, 0.15294118],\n",
       "         [0.38823529, 0.42352941, 0.17647059],\n",
       "         ...,\n",
       "         [0.17254902, 0.20784314, 0.24313725],\n",
       "         [0.07058824, 0.06666667, 0.0745098 ],\n",
       "         [0.10588235, 0.10196078, 0.07058824]]],\n",
       "\n",
       "\n",
       "       [[[0.51372549, 0.63137255, 0.78039216],\n",
       "         [0.52156863, 0.63137255, 0.78431373],\n",
       "         [0.52156863, 0.63137255, 0.78431373],\n",
       "         ...,\n",
       "         [0.61568627, 0.69411765, 0.8       ],\n",
       "         [0.58431373, 0.6745098 , 0.8       ],\n",
       "         [0.56862745, 0.66666667, 0.78823529]],\n",
       "\n",
       "        [[0.51372549, 0.63137255, 0.78039216],\n",
       "         [0.52156863, 0.63137255, 0.78431373],\n",
       "         [0.52156863, 0.63137255, 0.78431373],\n",
       "         ...,\n",
       "         [0.61568627, 0.69019608, 0.8       ],\n",
       "         [0.62745098, 0.70196078, 0.82352941],\n",
       "         [0.63137255, 0.70196078, 0.81568627]],\n",
       "\n",
       "        [[0.51372549, 0.63137255, 0.78039216],\n",
       "         [0.52156863, 0.63137255, 0.78431373],\n",
       "         [0.5254902 , 0.63529412, 0.78823529],\n",
       "         ...,\n",
       "         [0.65882353, 0.72156863, 0.81176471],\n",
       "         [0.61568627, 0.68235294, 0.78431373],\n",
       "         [0.59215686, 0.6745098 , 0.79607843]],\n",
       "\n",
       "        ...,\n",
       "\n",
       "        [[0.40784314, 0.47843137, 0.61568627],\n",
       "         [0.40784314, 0.48235294, 0.60784314],\n",
       "         [0.45882353, 0.52941176, 0.64313725],\n",
       "         ...,\n",
       "         [0.54509804, 0.58039216, 0.66666667],\n",
       "         [0.50980392, 0.53333333, 0.63921569],\n",
       "         [0.42745098, 0.47058824, 0.59215686]],\n",
       "\n",
       "        [[0.40392157, 0.46666667, 0.63529412],\n",
       "         [0.4       , 0.47058824, 0.62352941],\n",
       "         [0.42745098, 0.49019608, 0.63921569],\n",
       "         ...,\n",
       "         [0.4627451 , 0.52156863, 0.63529412],\n",
       "         [0.46666667, 0.49411765, 0.62352941],\n",
       "         [0.44313725, 0.4745098 , 0.61568627]],\n",
       "\n",
       "        [[0.35686275, 0.41176471, 0.56470588],\n",
       "         [0.38431373, 0.43529412, 0.58823529],\n",
       "         [0.38431373, 0.43921569, 0.58823529],\n",
       "         ...,\n",
       "         [0.44313725, 0.50196078, 0.61568627],\n",
       "         [0.44705882, 0.50588235, 0.61960784],\n",
       "         [0.44313725, 0.49803922, 0.61568627]]]])"
      ]
     },
     "execution_count": 60,
     "metadata": {},
     "output_type": "execute_result"
    }
   ],
   "source": [
    "X_train"
   ]
  },
  {
   "cell_type": "code",
   "execution_count": 61,
   "metadata": {},
   "outputs": [
    {
     "name": "stdout",
     "output_type": "stream",
     "text": [
      "0.0\n",
      "1.0\n"
     ]
    }
   ],
   "source": [
    "print(X_train.min())\n",
    "print(X_train.max())"
   ]
  },
  {
   "cell_type": "code",
   "execution_count": 62,
   "metadata": {},
   "outputs": [
    {
     "name": "stdout",
     "output_type": "stream",
     "text": [
      "(14034, 32, 32, 3)\n"
     ]
    }
   ],
   "source": [
    "print(X_train.shape)"
   ]
  },
  {
   "cell_type": "code",
   "execution_count": 64,
   "metadata": {},
   "outputs": [],
   "source": [
    "model = keras.Sequential([\n",
    "    keras.layers.Conv2D(64, (3,3), input_shape=(32,32,3)),\n",
    "    keras.layers.MaxPooling2D(2,2),\n",
    "    keras.layers.Conv2D(32, (3,3)),\n",
    "    keras.layers.MaxPooling2D(2,2),\n",
    "    # keras.layers.Conv2D(32, (3,3)),\n",
    "    # keras.layers.MaxPooling2D(2,2),\n",
    "    keras.layers.Flatten(),\n",
    "    keras.layers.Dense(32),\n",
    "    keras.layers.Dense(16),\n",
    "    keras.layers.Dense(6, activation=\"softmax\")\n",
    "])"
   ]
  },
  {
   "cell_type": "code",
   "execution_count": 65,
   "metadata": {},
   "outputs": [
    {
     "name": "stdout",
     "output_type": "stream",
     "text": [
      "Model: \"sequential_1\"\n",
      "_________________________________________________________________\n",
      " Layer (type)                Output Shape              Param #   \n",
      "=================================================================\n",
      " conv2d_2 (Conv2D)           (None, 30, 30, 64)        1792      \n",
      "                                                                 \n",
      " max_pooling2d_2 (MaxPoolin  (None, 15, 15, 64)        0         \n",
      " g2D)                                                            \n",
      "                                                                 \n",
      " conv2d_3 (Conv2D)           (None, 13, 13, 32)        18464     \n",
      "                                                                 \n",
      " max_pooling2d_3 (MaxPoolin  (None, 6, 6, 32)          0         \n",
      " g2D)                                                            \n",
      "                                                                 \n",
      " flatten_1 (Flatten)         (None, 1152)              0         \n",
      "                                                                 \n",
      " dense_3 (Dense)             (None, 32)                36896     \n",
      "                                                                 \n",
      " dense_4 (Dense)             (None, 16)                528       \n",
      "                                                                 \n",
      " dense_5 (Dense)             (None, 6)                 102       \n",
      "                                                                 \n",
      "=================================================================\n",
      "Total params: 57782 (225.71 KB)\n",
      "Trainable params: 57782 (225.71 KB)\n",
      "Non-trainable params: 0 (0.00 Byte)\n",
      "_________________________________________________________________\n"
     ]
    }
   ],
   "source": [
    "model.summary()"
   ]
  },
  {
   "cell_type": "code",
   "execution_count": 66,
   "metadata": {},
   "outputs": [
    {
     "data": {
      "text/plain": [
       "1792"
      ]
     },
     "execution_count": 66,
     "metadata": {},
     "output_type": "execute_result"
    }
   ],
   "source": [
    "64*(3*3)*3 + 64"
   ]
  },
  {
   "cell_type": "code",
   "execution_count": 67,
   "metadata": {},
   "outputs": [
    {
     "data": {
      "text/plain": [
       "18464"
      ]
     },
     "execution_count": 67,
     "metadata": {},
     "output_type": "execute_result"
    }
   ],
   "source": [
    "32*(3*3)*64 + 32"
   ]
  },
  {
   "cell_type": "code",
   "execution_count": 69,
   "metadata": {},
   "outputs": [
    {
     "data": {
      "text/plain": [
       "36896"
      ]
     },
     "execution_count": 69,
     "metadata": {},
     "output_type": "execute_result"
    }
   ],
   "source": [
    "6*6*32 * 32 + 32"
   ]
  },
  {
   "cell_type": "code",
   "execution_count": 70,
   "metadata": {},
   "outputs": [
    {
     "data": {
      "text/plain": [
       "528"
      ]
     },
     "execution_count": 70,
     "metadata": {},
     "output_type": "execute_result"
    }
   ],
   "source": [
    "32*16 + 16"
   ]
  },
  {
   "cell_type": "code",
   "execution_count": 72,
   "metadata": {},
   "outputs": [],
   "source": [
    "model.compile(optimizer=\"adam\",\n",
    "              loss= \"sparse_categorical_crossentropy\",\n",
    "              metrics= ['accuracy'])"
   ]
  },
  {
   "cell_type": "code",
   "execution_count": 75,
   "metadata": {},
   "outputs": [
    {
     "data": {
      "text/plain": [
       "98.6765625"
      ]
     },
     "execution_count": 75,
     "metadata": {},
     "output_type": "execute_result"
    }
   ],
   "source": [
    "X_train.shape[0]*0.9/128"
   ]
  },
  {
   "cell_type": "code",
   "execution_count": 76,
   "metadata": {},
   "outputs": [
    {
     "name": "stdout",
     "output_type": "stream",
     "text": [
      "Epoch 1/20\n",
      "WARNING:tensorflow:From c:\\Users\\Miguel Angel\\AppData\\Local\\Programs\\Python\\Python311\\Lib\\site-packages\\keras\\src\\utils\\tf_utils.py:492: The name tf.ragged.RaggedTensorValue is deprecated. Please use tf.compat.v1.ragged.RaggedTensorValue instead.\n",
      "\n",
      "WARNING:tensorflow:From c:\\Users\\Miguel Angel\\AppData\\Local\\Programs\\Python\\Python311\\Lib\\site-packages\\keras\\src\\engine\\base_layer_utils.py:384: The name tf.executing_eagerly_outside_functions is deprecated. Please use tf.compat.v1.executing_eagerly_outside_functions instead.\n",
      "\n",
      "99/99 [==============================] - 7s 52ms/step - loss: 1.1885 - accuracy: 0.5467 - val_loss: 0.9833 - val_accuracy: 0.6189\n",
      "Epoch 2/20\n",
      "99/99 [==============================] - 5s 48ms/step - loss: 0.9454 - accuracy: 0.6474 - val_loss: 0.8507 - val_accuracy: 0.6909\n",
      "Epoch 3/20\n",
      "99/99 [==============================] - 5s 49ms/step - loss: 0.8660 - accuracy: 0.6796 - val_loss: 0.8377 - val_accuracy: 0.6895\n",
      "Epoch 4/20\n",
      "99/99 [==============================] - 6s 57ms/step - loss: 0.8174 - accuracy: 0.6979 - val_loss: 0.8271 - val_accuracy: 0.7066\n",
      "Epoch 5/20\n",
      "99/99 [==============================] - 6s 57ms/step - loss: 0.7783 - accuracy: 0.7146 - val_loss: 0.8095 - val_accuracy: 0.6987\n",
      "Epoch 6/20\n",
      "99/99 [==============================] - 5s 54ms/step - loss: 0.7517 - accuracy: 0.7241 - val_loss: 0.7627 - val_accuracy: 0.7194\n",
      "Epoch 7/20\n",
      "99/99 [==============================] - 5s 55ms/step - loss: 0.7362 - accuracy: 0.7298 - val_loss: 0.7649 - val_accuracy: 0.7094\n",
      "Epoch 8/20\n",
      "99/99 [==============================] - 5s 55ms/step - loss: 0.6899 - accuracy: 0.7486 - val_loss: 0.8482 - val_accuracy: 0.6816\n",
      "Epoch 9/20\n",
      "99/99 [==============================] - 7s 68ms/step - loss: 0.6753 - accuracy: 0.7584 - val_loss: 0.7642 - val_accuracy: 0.7222\n",
      "Epoch 10/20\n",
      "99/99 [==============================] - 6s 59ms/step - loss: 0.6470 - accuracy: 0.7641 - val_loss: 0.7422 - val_accuracy: 0.7436\n",
      "Epoch 11/20\n",
      "99/99 [==============================] - 7s 68ms/step - loss: 0.6225 - accuracy: 0.7746 - val_loss: 0.7743 - val_accuracy: 0.7215\n",
      "Epoch 12/20\n",
      "99/99 [==============================] - 7s 66ms/step - loss: 0.6150 - accuracy: 0.7800 - val_loss: 0.7463 - val_accuracy: 0.7443\n",
      "Epoch 13/20\n",
      "99/99 [==============================] - 7s 66ms/step - loss: 0.5811 - accuracy: 0.7908 - val_loss: 0.7875 - val_accuracy: 0.7258\n",
      "Epoch 14/20\n",
      "99/99 [==============================] - 7s 67ms/step - loss: 0.5644 - accuracy: 0.7968 - val_loss: 0.7656 - val_accuracy: 0.7265\n",
      "Epoch 15/20\n",
      "99/99 [==============================] - 7s 66ms/step - loss: 0.5630 - accuracy: 0.7931 - val_loss: 0.7601 - val_accuracy: 0.7279\n",
      "Epoch 16/20\n",
      "99/99 [==============================] - 6s 63ms/step - loss: 0.5330 - accuracy: 0.8111 - val_loss: 0.7826 - val_accuracy: 0.7329\n",
      "Epoch 17/20\n",
      "99/99 [==============================] - 6s 65ms/step - loss: 0.5134 - accuracy: 0.8167 - val_loss: 0.7798 - val_accuracy: 0.7279\n",
      "Epoch 18/20\n",
      "99/99 [==============================] - 7s 68ms/step - loss: 0.4846 - accuracy: 0.8268 - val_loss: 0.8684 - val_accuracy: 0.6980\n",
      "Epoch 19/20\n",
      "99/99 [==============================] - 7s 68ms/step - loss: 0.4790 - accuracy: 0.8279 - val_loss: 0.8500 - val_accuracy: 0.7251\n",
      "Epoch 20/20\n",
      "99/99 [==============================] - 7s 66ms/step - loss: 0.4610 - accuracy: 0.8330 - val_loss: 0.9016 - val_accuracy: 0.7101\n"
     ]
    }
   ],
   "source": [
    "history = model.fit(X_train,\n",
    "                    y_train,\n",
    "                    batch_size = 128,\n",
    "                    epochs = 20,\n",
    "                    validation_split = 0.1)"
   ]
  },
  {
   "cell_type": "code",
   "execution_count": 78,
   "metadata": {},
   "outputs": [
    {
     "data": {
      "text/plain": [
       "<matplotlib.legend.Legend at 0x2c3b6045f90>"
      ]
     },
     "execution_count": 78,
     "metadata": {},
     "output_type": "execute_result"
    },
    {
     "data": {
      "image/png": "[encoded data removed]",
      "text/plain": [
       "<Figure size 640x480 with 1 Axes>"
      ]
     },
     "metadata": {},
     "output_type": "display_data"
    }
   ],
   "source": [
    "df_hist = pd.DataFrame(history.history, index=np.arange(1,21))\n",
    "plt.plot(df_hist['val_loss'], label=\"val loss\")\n",
    "plt.plot(df_hist['loss'], label=\"train loss\")\n",
    "plt.xlabel(\"Epochs\")\n",
    "plt.ylabel(\"Loss\")\n",
    "plt.title(\"Training CNN\")\n",
    "plt.xticks(np.arange(1,21))\n",
    "plt.legend()"
   ]
  },
  {
   "cell_type": "code",
   "execution_count": 79,
   "metadata": {},
   "outputs": [
    {
     "name": "stdout",
     "output_type": "stream",
     "text": [
      "94/94 [==============================] - 1s 6ms/step - loss: 0.9292 - accuracy: 0.7073\n"
     ]
    }
   ],
   "source": [
    "results = model.evaluate(X_test, y_test)"
   ]
  },
  {
   "cell_type": "code",
   "execution_count": 81,
   "metadata": {},
   "outputs": [
    {
     "data": {
      "text/plain": [
       "93.75"
      ]
     },
     "execution_count": 81,
     "metadata": {},
     "output_type": "execute_result"
    }
   ],
   "source": [
    "3000/32"
   ]
  },
  {
   "cell_type": "code",
   "execution_count": 80,
   "metadata": {},
   "outputs": [
    {
     "name": "stdout",
     "output_type": "stream",
     "text": [
      "94/94 [==============================] - 1s 6ms/step\n"
     ]
    }
   ],
   "source": [
    "y_pred = model.predict(X_test)"
   ]
  },
  {
   "cell_type": "code",
   "execution_count": 82,
   "metadata": {},
   "outputs": [
    {
     "data": {
      "text/plain": [
       "array([[295,  17,  15,  35,  34,  80],\n",
       "       [ 13, 404,   3,   5,   6,  13],\n",
       "       [ 10,   3, 444, 108, 119,  15],\n",
       "       [ 10,   1,  45, 323,  60,   4],\n",
       "       [ 22,   2,  30,  43, 274,   7],\n",
       "       [ 87,  47,  16,  11,  17, 382]], dtype=int64)"
      ]
     },
     "execution_count": 82,
     "metadata": {},
     "output_type": "execute_result"
    }
   ],
   "source": [
    "confusion_matrix(y_pred.argmax(axis=1), y_test)"
   ]
  },
  {
   "cell_type": "code",
   "execution_count": 83,
   "metadata": {},
   "outputs": [
    {
     "data": {
      "text/plain": [
       "<Axes: >"
      ]
     },
     "execution_count": 83,
     "metadata": {},
     "output_type": "execute_result"
    },
    {
     "data": {
      "image/png": "[encoded data removed]",
      "text/plain": [
       "<Figure size 640x480 with 2 Axes>"
      ]
     },
     "metadata": {},
     "output_type": "display_data"
    }
   ],
   "source": [
    "c_mat = confusion_matrix(y_pred.argmax(axis=1), y_test, normalize='true')\n",
    "sns.heatmap(c_mat, annot=True, xticklabels=class_names, yticklabels=class_names)"
   ]
  },
  {
   "cell_type": "code",
   "execution_count": 84,
   "metadata": {},
   "outputs": [],
   "source": [
    "from sklearn.metrics import classification_report"
   ]
  },
  {
   "cell_type": "code",
   "execution_count": 89,
   "metadata": {},
   "outputs": [],
   "source": [
    "# IMAGE_SIZE = (64,64)\n",
    "\n",
    "# X_train, y_train = read_data(TRAIN_PATH, IMAGE_SIZE, class_names_label)\n",
    "# X_test, y_test = read_data(TEST_PATH, IMAGE_SIZE, class_names_label)\n",
    "\n",
    "# X_train, y_train = shuffle(X_train, y_train, random_state=42)\n",
    "# X_test, y_test = shuffle(X_test, y_test, random_state=42)\n",
    "\n",
    "# X_train = X_train/255\n",
    "# X_test = X_test/255\n",
    "\n",
    "# model_2 = keras.Sequential([\n",
    "#     keras.layers.Conv2D(128, (3,3), input_shape=(64,64,3)),\n",
    "#     keras.layers.MaxPooling2D(2,2),\n",
    "#     keras.layers.Conv2D(64, (3,3)),\n",
    "#     keras.layers.MaxPooling2D(2,2),\n",
    "#     keras.layers.Conv2D(32, (3,3)),\n",
    "#     keras.layers.MaxPooling2D(2,2),\n",
    "#     keras.layers.Flatten(),\n",
    "#     keras.layers.Dense(64),\n",
    "#     keras.layers.Dropout(0.2),\n",
    "#     keras.layers.Dense(32),\n",
    "#     keras.layers.Dense(6, activation=\"softmax\")\n",
    "# ])\n",
    "\n",
    "# model_2.compile(optimizer=\"adam\",\n",
    "#               loss= \"sparse_categorical_crossentropy\",\n",
    "#               metrics= ['accuracy'])\n",
    "\n",
    "# history = model_2.fit(X_train,\n",
    "#                     y_train,\n",
    "#                     batch_size = 64,\n",
    "#                     epochs = 20,\n",
    "#                     validation_split = 0.1)\n",
    "\n",
    "# df_hist = pd.DataFrame(history.history, index=np.arange(1,21))\n",
    "# plt.plot(df_hist['val_loss'], label=\"val loss\")\n",
    "# plt.plot(df_hist['loss'], label=\"train loss\")\n",
    "# plt.xlabel(\"Epochs\")\n",
    "# plt.ylabel(\"Loss\")\n",
    "# plt.title(\"Training CNN\")\n",
    "# plt.xticks(np.arange(1,21))\n",
    "# plt.legend()\n",
    "\n",
    "# results = model_2.evaluate(X_test, y_test)\n",
    "\n",
    "# y_pred = model_2.predict(X_test)\n",
    "\n",
    "# c_mat = confusion_matrix(y_pred.argmax(axis=1), y_test, normalize='true')\n",
    "# sns.heatmap(c_mat, annot=True, xticklabels=class_names, yticklabels=class_names)\n",
    "\n",
    "# print(classification_report(y_test, y_pred.argmax(axis=1)))"
   ]
  }
 ],
 "metadata": {
  "kernelspec": {
   "display_name": "Python 3",
   "language": "python",
   "name": "python3"
  },
  "language_info": {
   "codemirror_mode": {
    "name": "ipython",
    "version": 3
   },
   "file_extension": ".py",
   "mimetype": "text/x-python",
   "name": "python",
   "nbconvert_exporter": "python",
   "pygments_lexer": "ipython3",
   "version": "3.11.3"
  },
  "orig_nbformat": 4
 },
 "nbformat": 4,
 "nbformat_minor": 2
}
