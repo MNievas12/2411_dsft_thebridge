{
 "cells": [
  {
   "attachments": {},
   "cell_type": "markdown",
   "metadata": {},
   "source": [
    "# Ejercicio k-Nearest Neighbor\n",
    "\n",
    "## App Reviews\n",
    "En este ejercicio vas a trabajar con una base de datos de reviews de una aplicación. Entre los datos podemos encontrar el texto de la review, las estrellas, así como el sentimiento del comentario (si es algo bueno o malo).\n",
    "\n",
    "El objetivo es montar un algoritmo de clasificación que prediga el rating, en función del sentimiento del comentario y la cantidad de palabras empleadas en el mismo. Para ello tendrás que utilizar un algoritmo de tipo KNN."
   ]
  },
  {
   "attachments": {},
   "cell_type": "markdown",
   "metadata": {},
   "source": [
    "## Importamos las librerías que vamos a utilizar"
   ]
  },
  {
   "cell_type": "code",
   "execution_count": 1,
   "metadata": {},
   "outputs": [],
   "source": [
    "import pandas as pd\n",
    "import numpy as np\n",
    "import matplotlib.pyplot as plt\n",
    "import seaborn as sns"
   ]
  },
  {
   "attachments": {},
   "cell_type": "markdown",
   "metadata": {},
   "source": [
    "## Leemos nuestro archivo de entrada `reviews_sentiment`"
   ]
  },
  {
   "cell_type": "code",
   "execution_count": 4,
   "metadata": {},
   "outputs": [],
   "source": [
    "pd.set_option('max_colwidth', None)"
   ]
  },
  {
   "cell_type": "code",
   "execution_count": 5,
   "metadata": {},
   "outputs": [
    {
     "data": {
      "text/html": [
       "<div>\n",
       "<style scoped>\n",
       "    .dataframe tbody tr th:only-of-type {\n",
       "        vertical-align: middle;\n",
       "    }\n",
       "\n",
       "    .dataframe tbody tr th {\n",
       "        vertical-align: top;\n",
       "    }\n",
       "\n",
       "    .dataframe thead th {\n",
       "        text-align: right;\n",
       "    }\n",
       "</style>\n",
       "<table border=\"1\" class=\"dataframe\">\n",
       "  <thead>\n",
       "    <tr style=\"text-align: right;\">\n",
       "      <th></th>\n",
       "      <th>Review Title</th>\n",
       "      <th>Review Text</th>\n",
       "      <th>wordcount</th>\n",
       "      <th>titleSentiment</th>\n",
       "      <th>textSentiment</th>\n",
       "      <th>Star Rating</th>\n",
       "      <th>sentimentValue</th>\n",
       "    </tr>\n",
       "  </thead>\n",
       "  <tbody>\n",
       "    <tr>\n",
       "      <th>0</th>\n",
       "      <td>Sin conexión</td>\n",
       "      <td>Hola desde hace algo más de un mes me pone sin conexión y no sale nada, antes me funcionaba correctamente.</td>\n",
       "      <td>23</td>\n",
       "      <td>negative</td>\n",
       "      <td>negative</td>\n",
       "      <td>1</td>\n",
       "      <td>-0.486389</td>\n",
       "    </tr>\n",
       "    <tr>\n",
       "      <th>1</th>\n",
       "      <td>faltan cosas</td>\n",
       "      <td>Han mejorado la apariencia pero no</td>\n",
       "      <td>20</td>\n",
       "      <td>negative</td>\n",
       "      <td>negative</td>\n",
       "      <td>1</td>\n",
       "      <td>-0.586187</td>\n",
       "    </tr>\n",
       "    <tr>\n",
       "      <th>2</th>\n",
       "      <td>Es muy buena lo recomiendo</td>\n",
       "      <td>Andres e puto amoooo</td>\n",
       "      <td>4</td>\n",
       "      <td>NaN</td>\n",
       "      <td>negative</td>\n",
       "      <td>1</td>\n",
       "      <td>-0.602240</td>\n",
       "    </tr>\n",
       "    <tr>\n",
       "      <th>3</th>\n",
       "      <td>Version antigua</td>\n",
       "      <td>Me gustana mas la version anterior esta es mas complicada de usar hay gente cambiandosevpor esevmotivo gracias</td>\n",
       "      <td>17</td>\n",
       "      <td>NaN</td>\n",
       "      <td>negative</td>\n",
       "      <td>1</td>\n",
       "      <td>-0.616271</td>\n",
       "    </tr>\n",
       "    <tr>\n",
       "      <th>4</th>\n",
       "      <td>Esta bien</td>\n",
       "      <td>Sin ser la biblia.... Esta bien</td>\n",
       "      <td>6</td>\n",
       "      <td>negative</td>\n",
       "      <td>negative</td>\n",
       "      <td>1</td>\n",
       "      <td>-0.651784</td>\n",
       "    </tr>\n",
       "    <tr>\n",
       "      <th>...</th>\n",
       "      <td>...</td>\n",
       "      <td>...</td>\n",
       "      <td>...</td>\n",
       "      <td>...</td>\n",
       "      <td>...</td>\n",
       "      <td>...</td>\n",
       "      <td>...</td>\n",
       "    </tr>\n",
       "    <tr>\n",
       "      <th>252</th>\n",
       "      <td>Muy buena aplicacion</td>\n",
       "      <td>Muy buena genial</td>\n",
       "      <td>3</td>\n",
       "      <td>positive</td>\n",
       "      <td>positive</td>\n",
       "      <td>5</td>\n",
       "      <td>2.814818</td>\n",
       "    </tr>\n",
       "    <tr>\n",
       "      <th>253</th>\n",
       "      <td>Buena</td>\n",
       "      <td>Genial</td>\n",
       "      <td>1</td>\n",
       "      <td>positive</td>\n",
       "      <td>positive</td>\n",
       "      <td>5</td>\n",
       "      <td>2.924393</td>\n",
       "    </tr>\n",
       "    <tr>\n",
       "      <th>254</th>\n",
       "      <td>Wuau</td>\n",
       "      <td>Genial</td>\n",
       "      <td>1</td>\n",
       "      <td>positive</td>\n",
       "      <td>positive</td>\n",
       "      <td>5</td>\n",
       "      <td>2.924393</td>\n",
       "    </tr>\n",
       "    <tr>\n",
       "      <th>255</th>\n",
       "      <td>Muy buena</td>\n",
       "      <td>Genial</td>\n",
       "      <td>1</td>\n",
       "      <td>positive</td>\n",
       "      <td>positive</td>\n",
       "      <td>5</td>\n",
       "      <td>2.924393</td>\n",
       "    </tr>\n",
       "    <tr>\n",
       "      <th>256</th>\n",
       "      <td>Sg S5</td>\n",
       "      <td>Excelente y exacta</td>\n",
       "      <td>3</td>\n",
       "      <td>negative</td>\n",
       "      <td>positive</td>\n",
       "      <td>5</td>\n",
       "      <td>3.264579</td>\n",
       "    </tr>\n",
       "  </tbody>\n",
       "</table>\n",
       "<p>257 rows × 7 columns</p>\n",
       "</div>"
      ],
      "text/plain": [
       "                   Review Title  \\\n",
       "0                  Sin conexión   \n",
       "1                  faltan cosas   \n",
       "2    Es muy buena lo recomiendo   \n",
       "3               Version antigua   \n",
       "4                     Esta bien   \n",
       "..                          ...   \n",
       "252        Muy buena aplicacion   \n",
       "253                       Buena   \n",
       "254                        Wuau   \n",
       "255                   Muy buena   \n",
       "256                       Sg S5   \n",
       "\n",
       "                                                                                                        Review Text  \\\n",
       "0        Hola desde hace algo más de un mes me pone sin conexión y no sale nada, antes me funcionaba correctamente.   \n",
       "1                                                                                Han mejorado la apariencia pero no   \n",
       "2                                                                                              Andres e puto amoooo   \n",
       "3    Me gustana mas la version anterior esta es mas complicada de usar hay gente cambiandosevpor esevmotivo gracias   \n",
       "4                                                                                   Sin ser la biblia.... Esta bien   \n",
       "..                                                                                                              ...   \n",
       "252                                                                                                Muy buena genial   \n",
       "253                                                                                                          Genial   \n",
       "254                                                                                                          Genial   \n",
       "255                                                                                                          Genial   \n",
       "256                                                                                              Excelente y exacta   \n",
       "\n",
       "     wordcount titleSentiment textSentiment  Star Rating  sentimentValue  \n",
       "0           23       negative      negative            1       -0.486389  \n",
       "1           20       negative      negative            1       -0.586187  \n",
       "2            4            NaN      negative            1       -0.602240  \n",
       "3           17            NaN      negative            1       -0.616271  \n",
       "4            6       negative      negative            1       -0.651784  \n",
       "..         ...            ...           ...          ...             ...  \n",
       "252          3       positive      positive            5        2.814818  \n",
       "253          1       positive      positive            5        2.924393  \n",
       "254          1       positive      positive            5        2.924393  \n",
       "255          1       positive      positive            5        2.924393  \n",
       "256          3       negative      positive            5        3.264579  \n",
       "\n",
       "[257 rows x 7 columns]"
      ]
     },
     "execution_count": 5,
     "metadata": {},
     "output_type": "execute_result"
    }
   ],
   "source": [
    "df = pd.read_csv('data/reviews_sentiment.csv', sep=';')\n",
    "df"
   ]
  },
  {
   "attachments": {},
   "cell_type": "markdown",
   "metadata": {},
   "source": [
    "Para facilitar el ejercicio, las columnas que utilizaremos serán: wordcount con la cantidad de palabras utilizadas y sentimentValue con un valor entre -4 y 4 que indica si el comentario fue valorado como positivo o negativo"
   ]
  },
  {
   "attachments": {},
   "cell_type": "markdown",
   "metadata": {},
   "source": [
    "Nuestras etiquetas, serán las estrellas que dieron los usuarios a la app, que son valores discretos del 1 al 5"
   ]
  },
  {
   "attachments": {},
   "cell_type": "markdown",
   "metadata": {},
   "source": [
    "## Rápidas visualizaciones y análisis\n",
    "Al menos realiza un análisis univariante y representa la distribución del rating. Realiza otras visualizaciones para ver la relación de tus datos."
   ]
  },
  {
   "cell_type": "code",
   "execution_count": 6,
   "metadata": {},
   "outputs": [
    {
     "name": "stdout",
     "output_type": "stream",
     "text": [
      "<class 'pandas.core.frame.DataFrame'>\n",
      "RangeIndex: 257 entries, 0 to 256\n",
      "Data columns (total 7 columns):\n",
      " #   Column          Non-Null Count  Dtype  \n",
      "---  ------          --------------  -----  \n",
      " 0   Review Title    257 non-null    object \n",
      " 1   Review Text     257 non-null    object \n",
      " 2   wordcount       257 non-null    int64  \n",
      " 3   titleSentiment  231 non-null    object \n",
      " 4   textSentiment   257 non-null    object \n",
      " 5   Star Rating     257 non-null    int64  \n",
      " 6   sentimentValue  257 non-null    float64\n",
      "dtypes: float64(1), int64(2), object(4)\n",
      "memory usage: 14.2+ KB\n"
     ]
    }
   ],
   "source": [
    "df.info()"
   ]
  },
  {
   "cell_type": "code",
   "execution_count": 7,
   "metadata": {},
   "outputs": [
    {
     "data": {
      "text/html": [
       "<div>\n",
       "<style scoped>\n",
       "    .dataframe tbody tr th:only-of-type {\n",
       "        vertical-align: middle;\n",
       "    }\n",
       "\n",
       "    .dataframe tbody tr th {\n",
       "        vertical-align: top;\n",
       "    }\n",
       "\n",
       "    .dataframe thead th {\n",
       "        text-align: right;\n",
       "    }\n",
       "</style>\n",
       "<table border=\"1\" class=\"dataframe\">\n",
       "  <thead>\n",
       "    <tr style=\"text-align: right;\">\n",
       "      <th></th>\n",
       "      <th>wordcount</th>\n",
       "      <th>Star Rating</th>\n",
       "      <th>sentimentValue</th>\n",
       "    </tr>\n",
       "  </thead>\n",
       "  <tbody>\n",
       "    <tr>\n",
       "      <th>count</th>\n",
       "      <td>257.000000</td>\n",
       "      <td>257.000000</td>\n",
       "      <td>257.000000</td>\n",
       "    </tr>\n",
       "    <tr>\n",
       "      <th>mean</th>\n",
       "      <td>11.501946</td>\n",
       "      <td>3.420233</td>\n",
       "      <td>0.383849</td>\n",
       "    </tr>\n",
       "    <tr>\n",
       "      <th>std</th>\n",
       "      <td>13.159812</td>\n",
       "      <td>1.409531</td>\n",
       "      <td>0.897987</td>\n",
       "    </tr>\n",
       "    <tr>\n",
       "      <th>min</th>\n",
       "      <td>1.000000</td>\n",
       "      <td>1.000000</td>\n",
       "      <td>-2.276469</td>\n",
       "    </tr>\n",
       "    <tr>\n",
       "      <th>25%</th>\n",
       "      <td>3.000000</td>\n",
       "      <td>3.000000</td>\n",
       "      <td>-0.108144</td>\n",
       "    </tr>\n",
       "    <tr>\n",
       "      <th>50%</th>\n",
       "      <td>7.000000</td>\n",
       "      <td>3.000000</td>\n",
       "      <td>0.264091</td>\n",
       "    </tr>\n",
       "    <tr>\n",
       "      <th>75%</th>\n",
       "      <td>16.000000</td>\n",
       "      <td>5.000000</td>\n",
       "      <td>0.808384</td>\n",
       "    </tr>\n",
       "    <tr>\n",
       "      <th>max</th>\n",
       "      <td>103.000000</td>\n",
       "      <td>5.000000</td>\n",
       "      <td>3.264579</td>\n",
       "    </tr>\n",
       "  </tbody>\n",
       "</table>\n",
       "</div>"
      ],
      "text/plain": [
       "        wordcount  Star Rating  sentimentValue\n",
       "count  257.000000   257.000000      257.000000\n",
       "mean    11.501946     3.420233        0.383849\n",
       "std     13.159812     1.409531        0.897987\n",
       "min      1.000000     1.000000       -2.276469\n",
       "25%      3.000000     3.000000       -0.108144\n",
       "50%      7.000000     3.000000        0.264091\n",
       "75%     16.000000     5.000000        0.808384\n",
       "max    103.000000     5.000000        3.264579"
      ]
     },
     "execution_count": 7,
     "metadata": {},
     "output_type": "execute_result"
    }
   ],
   "source": [
    "df.describe()"
   ]
  },
  {
   "cell_type": "code",
   "execution_count": 8,
   "metadata": {},
   "outputs": [
    {
     "data": {
      "text/plain": [
       "array([[<Axes: title={'center': 'wordcount'}>,\n",
       "        <Axes: title={'center': 'Star Rating'}>],\n",
       "       [<Axes: title={'center': 'sentimentValue'}>, <Axes: >]],\n",
       "      dtype=object)"
      ]
     },
     "execution_count": 8,
     "metadata": {},
     "output_type": "execute_result"
    },
    {
     "data": {
      "image/png": "[encoded data removed]",
      "text/plain": [
       "<Figure size 640x480 with 4 Axes>"
      ]
     },
     "metadata": {},
     "output_type": "display_data"
    }
   ],
   "source": [
    "df.hist()"
   ]
  },
  {
   "cell_type": "code",
   "execution_count": 9,
   "metadata": {},
   "outputs": [
    {
     "data": {
      "text/plain": [
       "<seaborn.axisgrid.FacetGrid at 0x2591c918c10>"
      ]
     },
     "execution_count": 9,
     "metadata": {},
     "output_type": "execute_result"
    },
    {
     "data": {
      "image/png": "[encoded data removed]",
      "text/plain": [
       "<Figure size 500x500 with 1 Axes>"
      ]
     },
     "metadata": {},
     "output_type": "display_data"
    }
   ],
   "source": [
    "sns.catplot(x='Star Rating', data=df, kind='count')"
   ]
  },
  {
   "cell_type": "code",
   "execution_count": 11,
   "metadata": {},
   "outputs": [
    {
     "data": {
      "text/plain": [
       "5    0.342412\n",
       "3    0.303502\n",
       "1    0.143969\n",
       "4    0.116732\n",
       "2    0.093385\n",
       "Name: Star Rating, dtype: float64"
      ]
     },
     "execution_count": 11,
     "metadata": {},
     "output_type": "execute_result"
    }
   ],
   "source": [
    "df['Star Rating'].value_counts(normalize=True)"
   ]
  },
  {
   "cell_type": "code",
   "execution_count": 13,
   "metadata": {},
   "outputs": [
    {
     "data": {
      "text/plain": [
       "<Axes: >"
      ]
     },
     "execution_count": 13,
     "metadata": {},
     "output_type": "execute_result"
    },
    {
     "data": {
      "image/png": "[encoded data removed]",
      "text/plain": [
       "<Figure size 640x480 with 2 Axes>"
      ]
     },
     "metadata": {},
     "output_type": "display_data"
    }
   ],
   "source": [
    "sns.heatmap(df.corr(numeric_only=True), annot=True)"
   ]
  },
  {
   "attachments": {},
   "cell_type": "markdown",
   "metadata": {},
   "source": [
    "## Preparamos el dataset\n",
    "Divide en train/test y escala las features en el rango [0, 1]."
   ]
  },
  {
   "cell_type": "code",
   "execution_count": 14,
   "metadata": {},
   "outputs": [
    {
     "name": "stdout",
     "output_type": "stream",
     "text": [
      "(205, 2)\n",
      "(52, 2)\n",
      "(205,)\n",
      "(52,)\n"
     ]
    }
   ],
   "source": [
    "from sklearn.model_selection import train_test_split\n",
    "\n",
    "X = df[['wordcount', 'sentimentValue']]\n",
    "y = df['Star Rating']\n",
    "\n",
    "X_train, X_test, y_train, y_test = train_test_split(X, y, test_size=0.2, random_state=42)\n",
    "\n",
    "print(X_train.shape)\n",
    "print(X_test.shape)\n",
    "print(y_train.shape)\n",
    "print(y_test.shape)"
   ]
  },
  {
   "cell_type": "code",
   "execution_count": 15,
   "metadata": {},
   "outputs": [
    {
     "data": {
      "text/html": [
       "<div>\n",
       "<style scoped>\n",
       "    .dataframe tbody tr th:only-of-type {\n",
       "        vertical-align: middle;\n",
       "    }\n",
       "\n",
       "    .dataframe tbody tr th {\n",
       "        vertical-align: top;\n",
       "    }\n",
       "\n",
       "    .dataframe thead th {\n",
       "        text-align: right;\n",
       "    }\n",
       "</style>\n",
       "<table border=\"1\" class=\"dataframe\">\n",
       "  <thead>\n",
       "    <tr style=\"text-align: right;\">\n",
       "      <th></th>\n",
       "      <th>wordcount</th>\n",
       "      <th>sentimentValue</th>\n",
       "    </tr>\n",
       "  </thead>\n",
       "  <tbody>\n",
       "    <tr>\n",
       "      <th>count</th>\n",
       "      <td>205.000000</td>\n",
       "      <td>205.000000</td>\n",
       "    </tr>\n",
       "    <tr>\n",
       "      <th>mean</th>\n",
       "      <td>11.209756</td>\n",
       "      <td>0.400269</td>\n",
       "    </tr>\n",
       "    <tr>\n",
       "      <th>std</th>\n",
       "      <td>12.875341</td>\n",
       "      <td>0.871054</td>\n",
       "    </tr>\n",
       "    <tr>\n",
       "      <th>min</th>\n",
       "      <td>1.000000</td>\n",
       "      <td>-1.780889</td>\n",
       "    </tr>\n",
       "    <tr>\n",
       "      <th>25%</th>\n",
       "      <td>3.000000</td>\n",
       "      <td>-0.106498</td>\n",
       "    </tr>\n",
       "    <tr>\n",
       "      <th>50%</th>\n",
       "      <td>7.000000</td>\n",
       "      <td>0.244713</td>\n",
       "    </tr>\n",
       "    <tr>\n",
       "      <th>75%</th>\n",
       "      <td>15.000000</td>\n",
       "      <td>0.813521</td>\n",
       "    </tr>\n",
       "    <tr>\n",
       "      <th>max</th>\n",
       "      <td>103.000000</td>\n",
       "      <td>3.264579</td>\n",
       "    </tr>\n",
       "  </tbody>\n",
       "</table>\n",
       "</div>"
      ],
      "text/plain": [
       "        wordcount  sentimentValue\n",
       "count  205.000000      205.000000\n",
       "mean    11.209756        0.400269\n",
       "std     12.875341        0.871054\n",
       "min      1.000000       -1.780889\n",
       "25%      3.000000       -0.106498\n",
       "50%      7.000000        0.244713\n",
       "75%     15.000000        0.813521\n",
       "max    103.000000        3.264579"
      ]
     },
     "execution_count": 15,
     "metadata": {},
     "output_type": "execute_result"
    }
   ],
   "source": [
    "X_train.describe()"
   ]
  },
  {
   "cell_type": "code",
   "execution_count": 18,
   "metadata": {},
   "outputs": [
    {
     "name": "stdout",
     "output_type": "stream",
     "text": [
      "0.0\n",
      "1.0\n",
      "0.2661980768831994\n",
      "0.22438305185364113\n",
      "--------------------------------------------------\n",
      "-0.0982228016602878\n",
      "0.9325760278023711\n",
      "0.2652349791283458\n",
      "0.22768623650804415\n"
     ]
    }
   ],
   "source": [
    "from sklearn.preprocessing import MinMaxScaler, StandardScaler\n",
    "\n",
    "scaler = MinMaxScaler()\n",
    "\n",
    "X_train_scal = scaler.fit_transform(X_train)\n",
    "X_test_scal = scaler.transform(X_test)\n",
    "\n",
    "print(X_train_scal.min())\n",
    "print(X_train_scal.max())\n",
    "print(X_train_scal.mean())\n",
    "print(X_train_scal.std())\n",
    "print('-'*50)\n",
    "print(X_test_scal.min())\n",
    "print(X_test_scal.max())\n",
    "print(X_test_scal.mean())\n",
    "print(X_test_scal.std())"
   ]
  },
  {
   "cell_type": "code",
   "execution_count": 19,
   "metadata": {},
   "outputs": [],
   "source": [
    "from sklearn.neighbors import KNeighborsClassifier\n",
    "from sklearn.pipeline import Pipeline"
   ]
  },
  {
   "cell_type": "code",
   "execution_count": 20,
   "metadata": {},
   "outputs": [],
   "source": [
    "# pipe = Pipeline([('scaler', MinMaxScaler()),\n",
    "#                  ('classifier', KNeighborsClassifier())])"
   ]
  },
  {
   "cell_type": "code",
   "execution_count": null,
   "metadata": {},
   "outputs": [],
   "source": [
    "# def train_model(model, X_train, y_train):\n",
    "#     scaler = MinMaxScaler()\n",
    "\n",
    "#     X_train_scal = scaler.fit_transform(X_train)\n",
    "#     X_test_scal = scaler.transform(X_test)\n",
    "\n",
    "#     model.fit(X_train_scal, y_train)\n",
    "\n",
    "#     return model"
   ]
  },
  {
   "attachments": {},
   "cell_type": "markdown",
   "metadata": {},
   "source": [
    "## Creamos el Modelo\n",
    "Entrena con un KNN y evalúa el error en train y en test"
   ]
  },
  {
   "cell_type": "code",
   "execution_count": 24,
   "metadata": {},
   "outputs": [],
   "source": [
    "knn = KNeighborsClassifier()"
   ]
  },
  {
   "cell_type": "code",
   "execution_count": 26,
   "metadata": {},
   "outputs": [
    {
     "data": {
      "text/html": [
       "<style>#sk-container-id-4 {color: black;background-color: white;}#sk-container-id-4 pre{padding: 0;}#sk-container-id-4 div.sk-toggleable {background-color: white;}#sk-container-id-4 label.sk-toggleable__label {cursor: pointer;display: block;width: 100%;margin-bottom: 0;padding: 0.3em;box-sizing: border-box;text-align: center;}#sk-container-id-4 label.sk-toggleable__label-arrow:before {content: \"▸\";float: left;margin-right: 0.25em;color: #696969;}#sk-container-id-4 label.sk-toggleable__label-arrow:hover:before {color: black;}#sk-container-id-4 div.sk-estimator:hover label.sk-toggleable__label-arrow:before {color: black;}#sk-container-id-4 div.sk-toggleable__content {max-height: 0;max-width: 0;overflow: hidden;text-align: left;background-color: #f0f8ff;}#sk-container-id-4 div.sk-toggleable__content pre {margin: 0.2em;color: black;border-radius: 0.25em;background-color: #f0f8ff;}#sk-container-id-4 input.sk-toggleable__control:checked~div.sk-toggleable__content {max-height: 200px;max-width: 100%;overflow: auto;}#sk-container-id-4 input.sk-toggleable__control:checked~label.sk-toggleable__label-arrow:before {content: \"▾\";}#sk-container-id-4 div.sk-estimator input.sk-toggleable__control:checked~label.sk-toggleable__label {background-color: #d4ebff;}#sk-container-id-4 div.sk-label input.sk-toggleable__control:checked~label.sk-toggleable__label {background-color: #d4ebff;}#sk-container-id-4 input.sk-hidden--visually {border: 0;clip: rect(1px 1px 1px 1px);clip: rect(1px, 1px, 1px, 1px);height: 1px;margin: -1px;overflow: hidden;padding: 0;position: absolute;width: 1px;}#sk-container-id-4 div.sk-estimator {font-family: monospace;background-color: #f0f8ff;border: 1px dotted black;border-radius: 0.25em;box-sizing: border-box;margin-bottom: 0.5em;}#sk-container-id-4 div.sk-estimator:hover {background-color: #d4ebff;}#sk-container-id-4 div.sk-parallel-item::after {content: \"\";width: 100%;border-bottom: 1px solid gray;flex-grow: 1;}#sk-container-id-4 div.sk-label:hover label.sk-toggleable__label {background-color: #d4ebff;}#sk-container-id-4 div.sk-serial::before {content: \"\";position: absolute;border-left: 1px solid gray;box-sizing: border-box;top: 0;bottom: 0;left: 50%;z-index: 0;}#sk-container-id-4 div.sk-serial {display: flex;flex-direction: column;align-items: center;background-color: white;padding-right: 0.2em;padding-left: 0.2em;position: relative;}#sk-container-id-4 div.sk-item {position: relative;z-index: 1;}#sk-container-id-4 div.sk-parallel {display: flex;align-items: stretch;justify-content: center;background-color: white;position: relative;}#sk-container-id-4 div.sk-item::before, #sk-container-id-4 div.sk-parallel-item::before {content: \"\";position: absolute;border-left: 1px solid gray;box-sizing: border-box;top: 0;bottom: 0;left: 50%;z-index: -1;}#sk-container-id-4 div.sk-parallel-item {display: flex;flex-direction: column;z-index: 1;position: relative;background-color: white;}#sk-container-id-4 div.sk-parallel-item:first-child::after {align-self: flex-end;width: 50%;}#sk-container-id-4 div.sk-parallel-item:last-child::after {align-self: flex-start;width: 50%;}#sk-container-id-4 div.sk-parallel-item:only-child::after {width: 0;}#sk-container-id-4 div.sk-dashed-wrapped {border: 1px dashed gray;margin: 0 0.4em 0.5em 0.4em;box-sizing: border-box;padding-bottom: 0.4em;background-color: white;}#sk-container-id-4 div.sk-label label {font-family: monospace;font-weight: bold;display: inline-block;line-height: 1.2em;}#sk-container-id-4 div.sk-label-container {text-align: center;}#sk-container-id-4 div.sk-container {/* jupyter's `normalize.less` sets `[hidden] { display: none; }` but bootstrap.min.css set `[hidden] { display: none !important; }` so we also need the `!important` here to be able to override the default hidden behavior on the sphinx rendered scikit-learn.org. See: https://github.com/scikit-learn/scikit-learn/issues/21755 */display: inline-block !important;position: relative;}#sk-container-id-4 div.sk-text-repr-fallback {display: none;}</style><div id=\"sk-container-id-4\" class=\"sk-top-container\"><div class=\"sk-text-repr-fallback\"><pre>KNeighborsClassifier()</pre><b>In a Jupyter environment, please rerun this cell to show the HTML representation or trust the notebook. <br />On GitHub, the HTML representation is unable to render, please try loading this page with nbviewer.org.</b></div><div class=\"sk-container\" hidden><div class=\"sk-item\"><div class=\"sk-estimator sk-toggleable\"><input class=\"sk-toggleable__control sk-hidden--visually\" id=\"sk-estimator-id-6\" type=\"checkbox\" checked><label for=\"sk-estimator-id-6\" class=\"sk-toggleable__label sk-toggleable__label-arrow\">KNeighborsClassifier</label><div class=\"sk-toggleable__content\"><pre>KNeighborsClassifier()</pre></div></div></div></div></div>"
      ],
      "text/plain": [
       "KNeighborsClassifier()"
      ]
     },
     "execution_count": 26,
     "metadata": {},
     "output_type": "execute_result"
    }
   ],
   "source": [
    "knn.fit(X_train_scal, y_train)"
   ]
  },
  {
   "attachments": {},
   "cell_type": "markdown",
   "metadata": {},
   "source": [
    "## Evalúa tu modelo"
   ]
  },
  {
   "cell_type": "code",
   "execution_count": 27,
   "metadata": {},
   "outputs": [],
   "source": [
    "from sklearn.metrics import accuracy_score, confusion_matrix, multilabel_confusion_matrix, classification_report"
   ]
  },
  {
   "cell_type": "code",
   "execution_count": 28,
   "metadata": {},
   "outputs": [
    {
     "name": "stdout",
     "output_type": "stream",
     "text": [
      "accuracy_score 0.8269230769230769\n",
      "confusion_matrix\n",
      " [[ 9  1  0  0  0]\n",
      " [ 0  2  0  0  0]\n",
      " [ 2  1 11  0  0]\n",
      " [ 0  1  1  3  2]\n",
      " [ 0  0  1  0 18]]\n"
     ]
    }
   ],
   "source": [
    "y_pred = knn.predict(X_test_scal)\n",
    "print('accuracy_score', accuracy_score(y_test, y_pred))\n",
    "print('confusion_matrix\\n', confusion_matrix(y_test, y_pred))"
   ]
  },
  {
   "cell_type": "code",
   "execution_count": 29,
   "metadata": {},
   "outputs": [
    {
     "name": "stdout",
     "output_type": "stream",
     "text": [
      "confusion_matrix\n",
      " [[[40  2]\n",
      "  [ 1  9]]\n",
      "\n",
      " [[47  3]\n",
      "  [ 0  2]]\n",
      "\n",
      " [[36  2]\n",
      "  [ 3 11]]\n",
      "\n",
      " [[45  0]\n",
      "  [ 4  3]]\n",
      "\n",
      " [[31  2]\n",
      "  [ 1 18]]]\n"
     ]
    }
   ],
   "source": [
    "print(\"confusion_matrix\\n\", multilabel_confusion_matrix(y_test, y_pred))"
   ]
  },
  {
   "cell_type": "code",
   "execution_count": 30,
   "metadata": {},
   "outputs": [
    {
     "name": "stdout",
     "output_type": "stream",
     "text": [
      "              precision    recall  f1-score   support\n",
      "\n",
      "           1       0.82      0.90      0.86        10\n",
      "           2       0.40      1.00      0.57         2\n",
      "           3       0.85      0.79      0.81        14\n",
      "           4       1.00      0.43      0.60         7\n",
      "           5       0.90      0.95      0.92        19\n",
      "\n",
      "    accuracy                           0.83        52\n",
      "   macro avg       0.79      0.81      0.75        52\n",
      "weighted avg       0.86      0.83      0.82        52\n",
      "\n"
     ]
    }
   ],
   "source": [
    "print(classification_report(y_test, y_pred))"
   ]
  },
  {
   "cell_type": "code",
   "execution_count": 39,
   "metadata": {},
   "outputs": [
    {
     "name": "stderr",
     "output_type": "stream",
     "text": [
      "c:\\Users\\Miguel Angel\\AppData\\Local\\Programs\\Python\\Python311\\Lib\\site-packages\\sklearn\\base.py:439: UserWarning: X does not have valid feature names, but MinMaxScaler was fitted with feature names\n",
      "  warnings.warn(\n"
     ]
    },
    {
     "data": {
      "text/plain": [
       "array([3], dtype=int64)"
      ]
     },
     "execution_count": 39,
     "metadata": {},
     "output_type": "execute_result"
    }
   ],
   "source": [
    "knn.predict(scaler.transform([[2,0]]))"
   ]
  },
  {
   "attachments": {},
   "cell_type": "markdown",
   "metadata": {},
   "source": [
    "## ¿Cómo obtener el mejor valor de k? Crea y evalúa nuevos modelos\n",
    "¿Qué valor de k maximiza el accuracy? Representa todas las iteraciones en un scatterplot -> k vs accuracy"
   ]
  },
  {
   "cell_type": "code",
   "execution_count": 40,
   "metadata": {},
   "outputs": [
    {
     "data": {
      "text/plain": [
       "<matplotlib.collections.PathCollection at 0x2591ef9d710>"
      ]
     },
     "execution_count": 40,
     "metadata": {},
     "output_type": "execute_result"
    },
    {
     "data": {
      "image/png": "[encoded data removed]",
      "text/plain": [
       "<Figure size 640x480 with 1 Axes>"
      ]
     },
     "metadata": {},
     "output_type": "display_data"
    }
   ],
   "source": [
    "k_range = range(1,30)\n",
    "scores = []\n",
    "\n",
    "for k in k_range:\n",
    "    knn = KNeighborsClassifier(n_neighbors=k)\n",
    "    knn.fit(X_train_scal, y_train)\n",
    "    scores.append(knn.score(X_test_scal, y_test))\n",
    "\n",
    "plt.scatter(k_range, scores)"
   ]
  },
  {
   "cell_type": "code",
   "execution_count": 41,
   "metadata": {},
   "outputs": [],
   "source": [
    "from sklearn.pipeline import Pipeline\n",
    "from sklearn.model_selection import GridSearchCV"
   ]
  },
  {
   "cell_type": "code",
   "execution_count": 52,
   "metadata": {},
   "outputs": [],
   "source": [
    "pipe = Pipeline((\n",
    "    ('scaler', MinMaxScaler()),\n",
    "    ('classifier', KNeighborsClassifier())\n",
    "))"
   ]
  },
  {
   "cell_type": "code",
   "execution_count": 43,
   "metadata": {},
   "outputs": [],
   "source": [
    "params = {\n",
    "    'scaler': [MinMaxScaler(), StandardScaler(), None],\n",
    "    'classifier__n_neighbors': np.arange(2,22),\n",
    "    'classifier__weights': ['uniform', 'distance']\n",
    "}\n",
    "\n",
    "gs_pipe = GridSearchCV(pipe, params, cv=5, scoring='accuracy', verbose=2)"
   ]
  },
  {
   "cell_type": "code",
   "execution_count": 44,
   "metadata": {},
   "outputs": [
    {
     "name": "stdout",
     "output_type": "stream",
     "text": [
      "Fitting 5 folds for each of 120 candidates, totalling 600 fits\n",
      "[CV] END classifier__n_neighbors=2, classifier__weights=uniform, scaler=MinMaxScaler(); total time=   0.0s\n",
      "[CV] END classifier__n_neighbors=2, classifier__weights=uniform, scaler=MinMaxScaler(); total time=   0.0s\n",
      "[CV] END classifier__n_neighbors=2, classifier__weights=uniform, scaler=MinMaxScaler(); total time=   0.0s\n",
      "[CV] END classifier__n_neighbors=2, classifier__weights=uniform, scaler=MinMaxScaler(); total time=   0.0s\n",
      "[CV] END classifier__n_neighbors=2, classifier__weights=uniform, scaler=MinMaxScaler(); total time=   0.0s\n",
      "[CV] END classifier__n_neighbors=2, classifier__weights=uniform, scaler=StandardScaler(); total time=   0.0s\n",
      "[CV] END classifier__n_neighbors=2, classifier__weights=uniform, scaler=StandardScaler(); total time=   0.0s\n",
      "[CV] END classifier__n_neighbors=2, classifier__weights=uniform, scaler=StandardScaler(); total time=   0.0s\n",
      "[CV] END classifier__n_neighbors=2, classifier__weights=uniform, scaler=StandardScaler(); total time=   0.0s\n",
      "[CV] END classifier__n_neighbors=2, classifier__weights=uniform, scaler=StandardScaler(); total time=   0.0s\n",
      "[CV] END classifier__n_neighbors=2, classifier__weights=uniform, scaler=None; total time=   0.0s\n",
      "[CV] END classifier__n_neighbors=2, classifier__weights=uniform, scaler=None; total time=   0.0s\n",
      "[CV] END classifier__n_neighbors=2, classifier__weights=uniform, scaler=None; total time=   0.0s\n",
      "[CV] END classifier__n_neighbors=2, classifier__weights=uniform, scaler=None; total time=   0.0s\n",
      "[CV] END classifier__n_neighbors=2, classifier__weights=uniform, scaler=None; total time=   0.0s\n",
      "[CV] END classifier__n_neighbors=2, classifier__weights=distance, scaler=MinMaxScaler(); total time=   0.0s\n",
      "[CV] END classifier__n_neighbors=2, classifier__weights=distance, scaler=MinMaxScaler(); total time=   0.0s\n",
      "[CV] END classifier__n_neighbors=2, classifier__weights=distance, scaler=MinMaxScaler(); total time=   0.0s\n",
      "[CV] END classifier__n_neighbors=2, classifier__weights=distance, scaler=MinMaxScaler(); total time=   0.0s\n",
      "[CV] END classifier__n_neighbors=2, classifier__weights=distance, scaler=MinMaxScaler(); total time=   0.0s\n",
      "[CV] END classifier__n_neighbors=2, classifier__weights=distance, scaler=StandardScaler(); total time=   0.0s\n",
      "[CV] END classifier__n_neighbors=2, classifier__weights=distance, scaler=StandardScaler(); total time=   0.0s\n",
      "[CV] END classifier__n_neighbors=2, classifier__weights=distance, scaler=StandardScaler(); total time=   0.0s\n",
      "[CV] END classifier__n_neighbors=2, classifier__weights=distance, scaler=StandardScaler(); total time=   0.0s\n",
      "[CV] END classifier__n_neighbors=2, classifier__weights=distance, scaler=StandardScaler(); total time=   0.0s\n",
      "[CV] END classifier__n_neighbors=2, classifier__weights=distance, scaler=None; total time=   0.0s\n",
      "[CV] END classifier__n_neighbors=2, classifier__weights=distance, scaler=None; total time=   0.0s\n",
      "[CV] END classifier__n_neighbors=2, classifier__weights=distance, scaler=None; total time=   0.0s\n",
      "[CV] END classifier__n_neighbors=2, classifier__weights=distance, scaler=None; total time=   0.0s\n",
      "[CV] END classifier__n_neighbors=2, classifier__weights=distance, scaler=None; total time=   0.0s\n",
      "[CV] END classifier__n_neighbors=3, classifier__weights=uniform, scaler=MinMaxScaler(); total time=   0.0s\n",
      "[CV] END classifier__n_neighbors=3, classifier__weights=uniform, scaler=MinMaxScaler(); total time=   0.0s\n",
      "[CV] END classifier__n_neighbors=3, classifier__weights=uniform, scaler=MinMaxScaler(); total time=   0.0s\n",
      "[CV] END classifier__n_neighbors=3, classifier__weights=uniform, scaler=MinMaxScaler(); total time=   0.0s\n",
      "[CV] END classifier__n_neighbors=3, classifier__weights=uniform, scaler=MinMaxScaler(); total time=   0.0s\n",
      "[CV] END classifier__n_neighbors=3, classifier__weights=uniform, scaler=StandardScaler(); total time=   0.0s\n",
      "[CV] END classifier__n_neighbors=3, classifier__weights=uniform, scaler=StandardScaler(); total time=   0.0s\n",
      "[CV] END classifier__n_neighbors=3, classifier__weights=uniform, scaler=StandardScaler(); total time=   0.0s\n",
      "[CV] END classifier__n_neighbors=3, classifier__weights=uniform, scaler=StandardScaler(); total time=   0.0s\n",
      "[CV] END classifier__n_neighbors=3, classifier__weights=uniform, scaler=StandardScaler(); total time=   0.0s\n",
      "[CV] END classifier__n_neighbors=3, classifier__weights=uniform, scaler=None; total time=   0.0s\n",
      "[CV] END classifier__n_neighbors=3, classifier__weights=uniform, scaler=None; total time=   0.0s\n",
      "[CV] END classifier__n_neighbors=3, classifier__weights=uniform, scaler=None; total time=   0.0s\n",
      "[CV] END classifier__n_neighbors=3, classifier__weights=uniform, scaler=None; total time=   0.0s\n",
      "[CV] END classifier__n_neighbors=3, classifier__weights=uniform, scaler=None; total time=   0.0s\n",
      "[CV] END classifier__n_neighbors=3, classifier__weights=distance, scaler=MinMaxScaler(); total time=   0.0s\n",
      "[CV] END classifier__n_neighbors=3, classifier__weights=distance, scaler=MinMaxScaler(); total time=   0.0s\n",
      "[CV] END classifier__n_neighbors=3, classifier__weights=distance, scaler=MinMaxScaler(); total time=   0.0s\n",
      "[CV] END classifier__n_neighbors=3, classifier__weights=distance, scaler=MinMaxScaler(); total time=   0.0s\n",
      "[CV] END classifier__n_neighbors=3, classifier__weights=distance, scaler=MinMaxScaler(); total time=   0.0s\n",
      "[CV] END classifier__n_neighbors=3, classifier__weights=distance, scaler=StandardScaler(); total time=   0.0s\n",
      "[CV] END classifier__n_neighbors=3, classifier__weights=distance, scaler=StandardScaler(); total time=   0.0s\n",
      "[CV] END classifier__n_neighbors=3, classifier__weights=distance, scaler=StandardScaler(); total time=   0.0s\n",
      "[CV] END classifier__n_neighbors=3, classifier__weights=distance, scaler=StandardScaler(); total time=   0.0s\n",
      "[CV] END classifier__n_neighbors=3, classifier__weights=distance, scaler=StandardScaler(); total time=   0.0s\n",
      "[CV] END classifier__n_neighbors=3, classifier__weights=distance, scaler=None; total time=   0.0s\n",
      "[CV] END classifier__n_neighbors=3, classifier__weights=distance, scaler=None; total time=   0.0s\n",
      "[CV] END classifier__n_neighbors=3, classifier__weights=distance, scaler=None; total time=   0.0s\n",
      "[CV] END classifier__n_neighbors=3, classifier__weights=distance, scaler=None; total time=   0.0s\n",
      "[CV] END classifier__n_neighbors=3, classifier__weights=distance, scaler=None; total time=   0.0s\n",
      "[CV] END classifier__n_neighbors=4, classifier__weights=uniform, scaler=MinMaxScaler(); total time=   0.0s\n",
      "[CV] END classifier__n_neighbors=4, classifier__weights=uniform, scaler=MinMaxScaler(); total time=   0.0s\n",
      "[CV] END classifier__n_neighbors=4, classifier__weights=uniform, scaler=MinMaxScaler(); total time=   0.0s\n",
      "[CV] END classifier__n_neighbors=4, classifier__weights=uniform, scaler=MinMaxScaler(); total time=   0.0s\n",
      "[CV] END classifier__n_neighbors=4, classifier__weights=uniform, scaler=MinMaxScaler(); total time=   0.0s\n",
      "[CV] END classifier__n_neighbors=4, classifier__weights=uniform, scaler=StandardScaler(); total time=   0.0s\n",
      "[CV] END classifier__n_neighbors=4, classifier__weights=uniform, scaler=StandardScaler(); total time=   0.0s\n",
      "[CV] END classifier__n_neighbors=4, classifier__weights=uniform, scaler=StandardScaler(); total time=   0.0s\n",
      "[CV] END classifier__n_neighbors=4, classifier__weights=uniform, scaler=StandardScaler(); total time=   0.0s\n",
      "[CV] END classifier__n_neighbors=4, classifier__weights=uniform, scaler=StandardScaler(); total time=   0.0s\n",
      "[CV] END classifier__n_neighbors=4, classifier__weights=uniform, scaler=None; total time=   0.0s\n",
      "[CV] END classifier__n_neighbors=4, classifier__weights=uniform, scaler=None; total time=   0.0s\n",
      "[CV] END classifier__n_neighbors=4, classifier__weights=uniform, scaler=None; total time=   0.0s\n",
      "[CV] END classifier__n_neighbors=4, classifier__weights=uniform, scaler=None; total time=   0.0s\n",
      "[CV] END classifier__n_neighbors=4, classifier__weights=uniform, scaler=None; total time=   0.0s\n",
      "[CV] END classifier__n_neighbors=4, classifier__weights=distance, scaler=MinMaxScaler(); total time=   0.0s\n",
      "[CV] END classifier__n_neighbors=4, classifier__weights=distance, scaler=MinMaxScaler(); total time=   0.0s\n",
      "[CV] END classifier__n_neighbors=4, classifier__weights=distance, scaler=MinMaxScaler(); total time=   0.0s\n",
      "[CV] END classifier__n_neighbors=4, classifier__weights=distance, scaler=MinMaxScaler(); total time=   0.0s\n",
      "[CV] END classifier__n_neighbors=4, classifier__weights=distance, scaler=MinMaxScaler(); total time=   0.0s\n",
      "[CV] END classifier__n_neighbors=4, classifier__weights=distance, scaler=StandardScaler(); total time=   0.0s\n",
      "[CV] END classifier__n_neighbors=4, classifier__weights=distance, scaler=StandardScaler(); total time=   0.0s\n",
      "[CV] END classifier__n_neighbors=4, classifier__weights=distance, scaler=StandardScaler(); total time=   0.0s\n",
      "[CV] END classifier__n_neighbors=4, classifier__weights=distance, scaler=StandardScaler(); total time=   0.0s\n",
      "[CV] END classifier__n_neighbors=4, classifier__weights=distance, scaler=StandardScaler(); total time=   0.0s\n",
      "[CV] END classifier__n_neighbors=4, classifier__weights=distance, scaler=None; total time=   0.0s\n",
      "[CV] END classifier__n_neighbors=4, classifier__weights=distance, scaler=None; total time=   0.0s\n",
      "[CV] END classifier__n_neighbors=4, classifier__weights=distance, scaler=None; total time=   0.0s\n",
      "[CV] END classifier__n_neighbors=4, classifier__weights=distance, scaler=None; total time=   0.0s\n",
      "[CV] END classifier__n_neighbors=4, classifier__weights=distance, scaler=None; total time=   0.0s\n",
      "[CV] END classifier__n_neighbors=5, classifier__weights=uniform, scaler=MinMaxScaler(); total time=   0.0s\n",
      "[CV] END classifier__n_neighbors=5, classifier__weights=uniform, scaler=MinMaxScaler(); total time=   0.0s\n",
      "[CV] END classifier__n_neighbors=5, classifier__weights=uniform, scaler=MinMaxScaler(); total time=   0.0s\n",
      "[CV] END classifier__n_neighbors=5, classifier__weights=uniform, scaler=MinMaxScaler(); total time=   0.0s\n",
      "[CV] END classifier__n_neighbors=5, classifier__weights=uniform, scaler=MinMaxScaler(); total time=   0.0s\n",
      "[CV] END classifier__n_neighbors=5, classifier__weights=uniform, scaler=StandardScaler(); total time=   0.0s\n",
      "[CV] END classifier__n_neighbors=5, classifier__weights=uniform, scaler=StandardScaler(); total time=   0.0s\n",
      "[CV] END classifier__n_neighbors=5, classifier__weights=uniform, scaler=StandardScaler(); total time=   0.0s\n",
      "[CV] END classifier__n_neighbors=5, classifier__weights=uniform, scaler=StandardScaler(); total time=   0.0s\n",
      "[CV] END classifier__n_neighbors=5, classifier__weights=uniform, scaler=StandardScaler(); total time=   0.0s\n",
      "[CV] END classifier__n_neighbors=5, classifier__weights=uniform, scaler=None; total time=   0.0s\n",
      "[CV] END classifier__n_neighbors=5, classifier__weights=uniform, scaler=None; total time=   0.0s\n",
      "[CV] END classifier__n_neighbors=5, classifier__weights=uniform, scaler=None; total time=   0.0s\n",
      "[CV] END classifier__n_neighbors=5, classifier__weights=uniform, scaler=None; total time=   0.0s\n",
      "[CV] END classifier__n_neighbors=5, classifier__weights=uniform, scaler=None; total time=   0.0s\n",
      "[CV] END classifier__n_neighbors=5, classifier__weights=distance, scaler=MinMaxScaler(); total time=   0.0s\n",
      "[CV] END classifier__n_neighbors=5, classifier__weights=distance, scaler=MinMaxScaler(); total time=   0.0s\n",
      "[CV] END classifier__n_neighbors=5, classifier__weights=distance, scaler=MinMaxScaler(); total time=   0.0s\n",
      "[CV] END classifier__n_neighbors=5, classifier__weights=distance, scaler=MinMaxScaler(); total time=   0.0s\n",
      "[CV] END classifier__n_neighbors=5, classifier__weights=distance, scaler=MinMaxScaler(); total time=   0.0s\n",
      "[CV] END classifier__n_neighbors=5, classifier__weights=distance, scaler=StandardScaler(); total time=   0.0s\n",
      "[CV] END classifier__n_neighbors=5, classifier__weights=distance, scaler=StandardScaler(); total time=   0.0s\n",
      "[CV] END classifier__n_neighbors=5, classifier__weights=distance, scaler=StandardScaler(); total time=   0.0s\n",
      "[CV] END classifier__n_neighbors=5, classifier__weights=distance, scaler=StandardScaler(); total time=   0.0s\n",
      "[CV] END classifier__n_neighbors=5, classifier__weights=distance, scaler=StandardScaler(); total time=   0.0s\n",
      "[CV] END classifier__n_neighbors=5, classifier__weights=distance, scaler=None; total time=   0.0s\n",
      "[CV] END classifier__n_neighbors=5, classifier__weights=distance, scaler=None; total time=   0.0s\n",
      "[CV] END classifier__n_neighbors=5, classifier__weights=distance, scaler=None; total time=   0.0s\n",
      "[CV] END classifier__n_neighbors=5, classifier__weights=distance, scaler=None; total time=   0.0s\n",
      "[CV] END classifier__n_neighbors=5, classifier__weights=distance, scaler=None; total time=   0.0s\n",
      "[CV] END classifier__n_neighbors=6, classifier__weights=uniform, scaler=MinMaxScaler(); total time=   0.0s\n",
      "[CV] END classifier__n_neighbors=6, classifier__weights=uniform, scaler=MinMaxScaler(); total time=   0.0s\n",
      "[CV] END classifier__n_neighbors=6, classifier__weights=uniform, scaler=MinMaxScaler(); total time=   0.0s\n",
      "[CV] END classifier__n_neighbors=6, classifier__weights=uniform, scaler=MinMaxScaler(); total time=   0.0s\n",
      "[CV] END classifier__n_neighbors=6, classifier__weights=uniform, scaler=MinMaxScaler(); total time=   0.0s\n",
      "[CV] END classifier__n_neighbors=6, classifier__weights=uniform, scaler=StandardScaler(); total time=   0.0s\n",
      "[CV] END classifier__n_neighbors=6, classifier__weights=uniform, scaler=StandardScaler(); total time=   0.0s\n",
      "[CV] END classifier__n_neighbors=6, classifier__weights=uniform, scaler=StandardScaler(); total time=   0.0s\n",
      "[CV] END classifier__n_neighbors=6, classifier__weights=uniform, scaler=StandardScaler(); total time=   0.0s\n",
      "[CV] END classifier__n_neighbors=6, classifier__weights=uniform, scaler=StandardScaler(); total time=   0.0s\n",
      "[CV] END classifier__n_neighbors=6, classifier__weights=uniform, scaler=None; total time=   0.0s\n",
      "[CV] END classifier__n_neighbors=6, classifier__weights=uniform, scaler=None; total time=   0.0s\n",
      "[CV] END classifier__n_neighbors=6, classifier__weights=uniform, scaler=None; total time=   0.0s\n",
      "[CV] END classifier__n_neighbors=6, classifier__weights=uniform, scaler=None; total time=   0.0s\n",
      "[CV] END classifier__n_neighbors=6, classifier__weights=uniform, scaler=None; total time=   0.0s\n",
      "[CV] END classifier__n_neighbors=6, classifier__weights=distance, scaler=MinMaxScaler(); total time=   0.0s\n",
      "[CV] END classifier__n_neighbors=6, classifier__weights=distance, scaler=MinMaxScaler(); total time=   0.0s\n",
      "[CV] END classifier__n_neighbors=6, classifier__weights=distance, scaler=MinMaxScaler(); total time=   0.0s\n",
      "[CV] END classifier__n_neighbors=6, classifier__weights=distance, scaler=MinMaxScaler(); total time=   0.0s\n",
      "[CV] END classifier__n_neighbors=6, classifier__weights=distance, scaler=MinMaxScaler(); total time=   0.0s\n",
      "[CV] END classifier__n_neighbors=6, classifier__weights=distance, scaler=StandardScaler(); total time=   0.0s\n",
      "[CV] END classifier__n_neighbors=6, classifier__weights=distance, scaler=StandardScaler(); total time=   0.0s\n",
      "[CV] END classifier__n_neighbors=6, classifier__weights=distance, scaler=StandardScaler(); total time=   0.0s\n",
      "[CV] END classifier__n_neighbors=6, classifier__weights=distance, scaler=StandardScaler(); total time=   0.0s\n",
      "[CV] END classifier__n_neighbors=6, classifier__weights=distance, scaler=StandardScaler(); total time=   0.0s\n",
      "[CV] END classifier__n_neighbors=6, classifier__weights=distance, scaler=None; total time=   0.0s\n",
      "[CV] END classifier__n_neighbors=6, classifier__weights=distance, scaler=None; total time=   0.0s\n",
      "[CV] END classifier__n_neighbors=6, classifier__weights=distance, scaler=None; total time=   0.0s\n",
      "[CV] END classifier__n_neighbors=6, classifier__weights=distance, scaler=None; total time=   0.0s\n",
      "[CV] END classifier__n_neighbors=6, classifier__weights=distance, scaler=None; total time=   0.0s\n",
      "[CV] END classifier__n_neighbors=7, classifier__weights=uniform, scaler=MinMaxScaler(); total time=   0.0s\n",
      "[CV] END classifier__n_neighbors=7, classifier__weights=uniform, scaler=MinMaxScaler(); total time=   0.0s\n",
      "[CV] END classifier__n_neighbors=7, classifier__weights=uniform, scaler=MinMaxScaler(); total time=   0.0s\n",
      "[CV] END classifier__n_neighbors=7, classifier__weights=uniform, scaler=MinMaxScaler(); total time=   0.0s\n",
      "[CV] END classifier__n_neighbors=7, classifier__weights=uniform, scaler=MinMaxScaler(); total time=   0.0s\n",
      "[CV] END classifier__n_neighbors=7, classifier__weights=uniform, scaler=StandardScaler(); total time=   0.0s\n",
      "[CV] END classifier__n_neighbors=7, classifier__weights=uniform, scaler=StandardScaler(); total time=   0.0s\n",
      "[CV] END classifier__n_neighbors=7, classifier__weights=uniform, scaler=StandardScaler(); total time=   0.0s\n",
      "[CV] END classifier__n_neighbors=7, classifier__weights=uniform, scaler=StandardScaler(); total time=   0.0s\n",
      "[CV] END classifier__n_neighbors=7, classifier__weights=uniform, scaler=StandardScaler(); total time=   0.0s\n",
      "[CV] END classifier__n_neighbors=7, classifier__weights=uniform, scaler=None; total time=   0.0s\n",
      "[CV] END classifier__n_neighbors=7, classifier__weights=uniform, scaler=None; total time=   0.0s\n",
      "[CV] END classifier__n_neighbors=7, classifier__weights=uniform, scaler=None; total time=   0.0s\n",
      "[CV] END classifier__n_neighbors=7, classifier__weights=uniform, scaler=None; total time=   0.0s\n",
      "[CV] END classifier__n_neighbors=7, classifier__weights=uniform, scaler=None; total time=   0.0s\n",
      "[CV] END classifier__n_neighbors=7, classifier__weights=distance, scaler=MinMaxScaler(); total time=   0.0s\n",
      "[CV] END classifier__n_neighbors=7, classifier__weights=distance, scaler=MinMaxScaler(); total time=   0.0s\n",
      "[CV] END classifier__n_neighbors=7, classifier__weights=distance, scaler=MinMaxScaler(); total time=   0.0s\n",
      "[CV] END classifier__n_neighbors=7, classifier__weights=distance, scaler=MinMaxScaler(); total time=   0.0s\n",
      "[CV] END classifier__n_neighbors=7, classifier__weights=distance, scaler=MinMaxScaler(); total time=   0.0s\n",
      "[CV] END classifier__n_neighbors=7, classifier__weights=distance, scaler=StandardScaler(); total time=   0.0s\n",
      "[CV] END classifier__n_neighbors=7, classifier__weights=distance, scaler=StandardScaler(); total time=   0.0s\n",
      "[CV] END classifier__n_neighbors=7, classifier__weights=distance, scaler=StandardScaler(); total time=   0.0s\n",
      "[CV] END classifier__n_neighbors=7, classifier__weights=distance, scaler=StandardScaler(); total time=   0.0s\n",
      "[CV] END classifier__n_neighbors=7, classifier__weights=distance, scaler=StandardScaler(); total time=   0.0s\n",
      "[CV] END classifier__n_neighbors=7, classifier__weights=distance, scaler=None; total time=   0.0s\n",
      "[CV] END classifier__n_neighbors=7, classifier__weights=distance, scaler=None; total time=   0.0s\n",
      "[CV] END classifier__n_neighbors=7, classifier__weights=distance, scaler=None; total time=   0.0s\n",
      "[CV] END classifier__n_neighbors=7, classifier__weights=distance, scaler=None; total time=   0.0s\n",
      "[CV] END classifier__n_neighbors=7, classifier__weights=distance, scaler=None; total time=   0.0s\n",
      "[CV] END classifier__n_neighbors=8, classifier__weights=uniform, scaler=MinMaxScaler(); total time=   0.0s\n",
      "[CV] END classifier__n_neighbors=8, classifier__weights=uniform, scaler=MinMaxScaler(); total time=   0.0s\n",
      "[CV] END classifier__n_neighbors=8, classifier__weights=uniform, scaler=MinMaxScaler(); total time=   0.0s\n",
      "[CV] END classifier__n_neighbors=8, classifier__weights=uniform, scaler=MinMaxScaler(); total time=   0.0s\n",
      "[CV] END classifier__n_neighbors=8, classifier__weights=uniform, scaler=MinMaxScaler(); total time=   0.0s\n",
      "[CV] END classifier__n_neighbors=8, classifier__weights=uniform, scaler=StandardScaler(); total time=   0.0s\n",
      "[CV] END classifier__n_neighbors=8, classifier__weights=uniform, scaler=StandardScaler(); total time=   0.0s\n",
      "[CV] END classifier__n_neighbors=8, classifier__weights=uniform, scaler=StandardScaler(); total time=   0.0s\n",
      "[CV] END classifier__n_neighbors=8, classifier__weights=uniform, scaler=StandardScaler(); total time=   0.0s\n",
      "[CV] END classifier__n_neighbors=8, classifier__weights=uniform, scaler=StandardScaler(); total time=   0.0s\n",
      "[CV] END classifier__n_neighbors=8, classifier__weights=uniform, scaler=None; total time=   0.0s\n",
      "[CV] END classifier__n_neighbors=8, classifier__weights=uniform, scaler=None; total time=   0.0s\n",
      "[CV] END classifier__n_neighbors=8, classifier__weights=uniform, scaler=None; total time=   0.0s\n",
      "[CV] END classifier__n_neighbors=8, classifier__weights=uniform, scaler=None; total time=   0.0s\n",
      "[CV] END classifier__n_neighbors=8, classifier__weights=uniform, scaler=None; total time=   0.0s\n",
      "[CV] END classifier__n_neighbors=8, classifier__weights=distance, scaler=MinMaxScaler(); total time=   0.0s\n",
      "[CV] END classifier__n_neighbors=8, classifier__weights=distance, scaler=MinMaxScaler(); total time=   0.0s\n",
      "[CV] END classifier__n_neighbors=8, classifier__weights=distance, scaler=MinMaxScaler(); total time=   0.0s\n",
      "[CV] END classifier__n_neighbors=8, classifier__weights=distance, scaler=MinMaxScaler(); total time=   0.0s\n",
      "[CV] END classifier__n_neighbors=8, classifier__weights=distance, scaler=MinMaxScaler(); total time=   0.0s\n",
      "[CV] END classifier__n_neighbors=8, classifier__weights=distance, scaler=StandardScaler(); total time=   0.0s\n",
      "[CV] END classifier__n_neighbors=8, classifier__weights=distance, scaler=StandardScaler(); total time=   0.0s\n",
      "[CV] END classifier__n_neighbors=8, classifier__weights=distance, scaler=StandardScaler(); total time=   0.0s\n",
      "[CV] END classifier__n_neighbors=8, classifier__weights=distance, scaler=StandardScaler(); total time=   0.0s\n",
      "[CV] END classifier__n_neighbors=8, classifier__weights=distance, scaler=StandardScaler(); total time=   0.0s\n",
      "[CV] END classifier__n_neighbors=8, classifier__weights=distance, scaler=None; total time=   0.0s\n",
      "[CV] END classifier__n_neighbors=8, classifier__weights=distance, scaler=None; total time=   0.0s\n",
      "[CV] END classifier__n_neighbors=8, classifier__weights=distance, scaler=None; total time=   0.0s\n",
      "[CV] END classifier__n_neighbors=8, classifier__weights=distance, scaler=None; total time=   0.0s\n",
      "[CV] END classifier__n_neighbors=8, classifier__weights=distance, scaler=None; total time=   0.0s\n",
      "[CV] END classifier__n_neighbors=9, classifier__weights=uniform, scaler=MinMaxScaler(); total time=   0.0s\n",
      "[CV] END classifier__n_neighbors=9, classifier__weights=uniform, scaler=MinMaxScaler(); total time=   0.0s\n",
      "[CV] END classifier__n_neighbors=9, classifier__weights=uniform, scaler=MinMaxScaler(); total time=   0.0s\n",
      "[CV] END classifier__n_neighbors=9, classifier__weights=uniform, scaler=MinMaxScaler(); total time=   0.0s\n",
      "[CV] END classifier__n_neighbors=9, classifier__weights=uniform, scaler=MinMaxScaler(); total time=   0.0s\n",
      "[CV] END classifier__n_neighbors=9, classifier__weights=uniform, scaler=StandardScaler(); total time=   0.0s\n",
      "[CV] END classifier__n_neighbors=9, classifier__weights=uniform, scaler=StandardScaler(); total time=   0.0s\n",
      "[CV] END classifier__n_neighbors=9, classifier__weights=uniform, scaler=StandardScaler(); total time=   0.0s\n",
      "[CV] END classifier__n_neighbors=9, classifier__weights=uniform, scaler=StandardScaler(); total time=   0.0s\n",
      "[CV] END classifier__n_neighbors=9, classifier__weights=uniform, scaler=StandardScaler(); total time=   0.0s\n",
      "[CV] END classifier__n_neighbors=9, classifier__weights=uniform, scaler=None; total time=   0.0s\n",
      "[CV] END classifier__n_neighbors=9, classifier__weights=uniform, scaler=None; total time=   0.0s\n",
      "[CV] END classifier__n_neighbors=9, classifier__weights=uniform, scaler=None; total time=   0.0s\n",
      "[CV] END classifier__n_neighbors=9, classifier__weights=uniform, scaler=None; total time=   0.0s\n",
      "[CV] END classifier__n_neighbors=9, classifier__weights=uniform, scaler=None; total time=   0.0s\n",
      "[CV] END classifier__n_neighbors=9, classifier__weights=distance, scaler=MinMaxScaler(); total time=   0.0s\n",
      "[CV] END classifier__n_neighbors=9, classifier__weights=distance, scaler=MinMaxScaler(); total time=   0.0s\n",
      "[CV] END classifier__n_neighbors=9, classifier__weights=distance, scaler=MinMaxScaler(); total time=   0.0s\n",
      "[CV] END classifier__n_neighbors=9, classifier__weights=distance, scaler=MinMaxScaler(); total time=   0.0s\n",
      "[CV] END classifier__n_neighbors=9, classifier__weights=distance, scaler=MinMaxScaler(); total time=   0.0s\n",
      "[CV] END classifier__n_neighbors=9, classifier__weights=distance, scaler=StandardScaler(); total time=   0.0s\n",
      "[CV] END classifier__n_neighbors=9, classifier__weights=distance, scaler=StandardScaler(); total time=   0.0s\n",
      "[CV] END classifier__n_neighbors=9, classifier__weights=distance, scaler=StandardScaler(); total time=   0.0s\n",
      "[CV] END classifier__n_neighbors=9, classifier__weights=distance, scaler=StandardScaler(); total time=   0.0s\n",
      "[CV] END classifier__n_neighbors=9, classifier__weights=distance, scaler=StandardScaler(); total time=   0.0s\n",
      "[CV] END classifier__n_neighbors=9, classifier__weights=distance, scaler=None; total time=   0.0s\n",
      "[CV] END classifier__n_neighbors=9, classifier__weights=distance, scaler=None; total time=   0.0s\n",
      "[CV] END classifier__n_neighbors=9, classifier__weights=distance, scaler=None; total time=   0.0s\n",
      "[CV] END classifier__n_neighbors=9, classifier__weights=distance, scaler=None; total time=   0.0s\n",
      "[CV] END classifier__n_neighbors=9, classifier__weights=distance, scaler=None; total time=   0.0s\n",
      "[CV] END classifier__n_neighbors=10, classifier__weights=uniform, scaler=MinMaxScaler(); total time=   0.0s\n",
      "[CV] END classifier__n_neighbors=10, classifier__weights=uniform, scaler=MinMaxScaler(); total time=   0.0s\n",
      "[CV] END classifier__n_neighbors=10, classifier__weights=uniform, scaler=MinMaxScaler(); total time=   0.0s\n",
      "[CV] END classifier__n_neighbors=10, classifier__weights=uniform, scaler=MinMaxScaler(); total time=   0.0s\n",
      "[CV] END classifier__n_neighbors=10, classifier__weights=uniform, scaler=MinMaxScaler(); total time=   0.0s\n",
      "[CV] END classifier__n_neighbors=10, classifier__weights=uniform, scaler=StandardScaler(); total time=   0.0s\n",
      "[CV] END classifier__n_neighbors=10, classifier__weights=uniform, scaler=StandardScaler(); total time=   0.0s\n",
      "[CV] END classifier__n_neighbors=10, classifier__weights=uniform, scaler=StandardScaler(); total time=   0.0s\n",
      "[CV] END classifier__n_neighbors=10, classifier__weights=uniform, scaler=StandardScaler(); total time=   0.0s\n",
      "[CV] END classifier__n_neighbors=10, classifier__weights=uniform, scaler=StandardScaler(); total time=   0.0s\n",
      "[CV] END classifier__n_neighbors=10, classifier__weights=uniform, scaler=None; total time=   0.0s\n",
      "[CV] END classifier__n_neighbors=10, classifier__weights=uniform, scaler=None; total time=   0.0s\n",
      "[CV] END classifier__n_neighbors=10, classifier__weights=uniform, scaler=None; total time=   0.0s\n",
      "[CV] END classifier__n_neighbors=10, classifier__weights=uniform, scaler=None; total time=   0.0s\n",
      "[CV] END classifier__n_neighbors=10, classifier__weights=uniform, scaler=None; total time=   0.0s\n",
      "[CV] END classifier__n_neighbors=10, classifier__weights=distance, scaler=MinMaxScaler(); total time=   0.0s\n",
      "[CV] END classifier__n_neighbors=10, classifier__weights=distance, scaler=MinMaxScaler(); total time=   0.0s\n",
      "[CV] END classifier__n_neighbors=10, classifier__weights=distance, scaler=MinMaxScaler(); total time=   0.0s\n",
      "[CV] END classifier__n_neighbors=10, classifier__weights=distance, scaler=MinMaxScaler(); total time=   0.0s\n",
      "[CV] END classifier__n_neighbors=10, classifier__weights=distance, scaler=MinMaxScaler(); total time=   0.0s\n",
      "[CV] END classifier__n_neighbors=10, classifier__weights=distance, scaler=StandardScaler(); total time=   0.0s\n",
      "[CV] END classifier__n_neighbors=10, classifier__weights=distance, scaler=StandardScaler(); total time=   0.0s\n",
      "[CV] END classifier__n_neighbors=10, classifier__weights=distance, scaler=StandardScaler(); total time=   0.0s\n",
      "[CV] END classifier__n_neighbors=10, classifier__weights=distance, scaler=StandardScaler(); total time=   0.0s\n",
      "[CV] END classifier__n_neighbors=10, classifier__weights=distance, scaler=StandardScaler(); total time=   0.0s\n",
      "[CV] END classifier__n_neighbors=10, classifier__weights=distance, scaler=None; total time=   0.0s\n",
      "[CV] END classifier__n_neighbors=10, classifier__weights=distance, scaler=None; total time=   0.0s\n",
      "[CV] END classifier__n_neighbors=10, classifier__weights=distance, scaler=None; total time=   0.0s\n",
      "[CV] END classifier__n_neighbors=10, classifier__weights=distance, scaler=None; total time=   0.0s\n",
      "[CV] END classifier__n_neighbors=10, classifier__weights=distance, scaler=None; total time=   0.0s\n",
      "[CV] END classifier__n_neighbors=11, classifier__weights=uniform, scaler=MinMaxScaler(); total time=   0.0s\n",
      "[CV] END classifier__n_neighbors=11, classifier__weights=uniform, scaler=MinMaxScaler(); total time=   0.0s\n",
      "[CV] END classifier__n_neighbors=11, classifier__weights=uniform, scaler=MinMaxScaler(); total time=   0.0s\n",
      "[CV] END classifier__n_neighbors=11, classifier__weights=uniform, scaler=MinMaxScaler(); total time=   0.0s\n",
      "[CV] END classifier__n_neighbors=11, classifier__weights=uniform, scaler=MinMaxScaler(); total time=   0.0s\n",
      "[CV] END classifier__n_neighbors=11, classifier__weights=uniform, scaler=StandardScaler(); total time=   0.0s\n",
      "[CV] END classifier__n_neighbors=11, classifier__weights=uniform, scaler=StandardScaler(); total time=   0.0s\n",
      "[CV] END classifier__n_neighbors=11, classifier__weights=uniform, scaler=StandardScaler(); total time=   0.0s\n",
      "[CV] END classifier__n_neighbors=11, classifier__weights=uniform, scaler=StandardScaler(); total time=   0.0s\n",
      "[CV] END classifier__n_neighbors=11, classifier__weights=uniform, scaler=StandardScaler(); total time=   0.0s\n",
      "[CV] END classifier__n_neighbors=11, classifier__weights=uniform, scaler=None; total time=   0.0s\n",
      "[CV] END classifier__n_neighbors=11, classifier__weights=uniform, scaler=None; total time=   0.0s\n",
      "[CV] END classifier__n_neighbors=11, classifier__weights=uniform, scaler=None; total time=   0.0s\n",
      "[CV] END classifier__n_neighbors=11, classifier__weights=uniform, scaler=None; total time=   0.0s\n",
      "[CV] END classifier__n_neighbors=11, classifier__weights=uniform, scaler=None; total time=   0.0s\n",
      "[CV] END classifier__n_neighbors=11, classifier__weights=distance, scaler=MinMaxScaler(); total time=   0.0s\n",
      "[CV] END classifier__n_neighbors=11, classifier__weights=distance, scaler=MinMaxScaler(); total time=   0.0s\n",
      "[CV] END classifier__n_neighbors=11, classifier__weights=distance, scaler=MinMaxScaler(); total time=   0.0s\n",
      "[CV] END classifier__n_neighbors=11, classifier__weights=distance, scaler=MinMaxScaler(); total time=   0.0s\n",
      "[CV] END classifier__n_neighbors=11, classifier__weights=distance, scaler=MinMaxScaler(); total time=   0.0s\n",
      "[CV] END classifier__n_neighbors=11, classifier__weights=distance, scaler=StandardScaler(); total time=   0.0s\n",
      "[CV] END classifier__n_neighbors=11, classifier__weights=distance, scaler=StandardScaler(); total time=   0.0s\n",
      "[CV] END classifier__n_neighbors=11, classifier__weights=distance, scaler=StandardScaler(); total time=   0.0s\n",
      "[CV] END classifier__n_neighbors=11, classifier__weights=distance, scaler=StandardScaler(); total time=   0.0s\n",
      "[CV] END classifier__n_neighbors=11, classifier__weights=distance, scaler=StandardScaler(); total time=   0.0s\n",
      "[CV] END classifier__n_neighbors=11, classifier__weights=distance, scaler=None; total time=   0.0s\n",
      "[CV] END classifier__n_neighbors=11, classifier__weights=distance, scaler=None; total time=   0.0s\n",
      "[CV] END classifier__n_neighbors=11, classifier__weights=distance, scaler=None; total time=   0.0s\n",
      "[CV] END classifier__n_neighbors=11, classifier__weights=distance, scaler=None; total time=   0.0s\n",
      "[CV] END classifier__n_neighbors=11, classifier__weights=distance, scaler=None; total time=   0.0s\n",
      "[CV] END classifier__n_neighbors=12, classifier__weights=uniform, scaler=MinMaxScaler(); total time=   0.0s\n",
      "[CV] END classifier__n_neighbors=12, classifier__weights=uniform, scaler=MinMaxScaler(); total time=   0.0s\n",
      "[CV] END classifier__n_neighbors=12, classifier__weights=uniform, scaler=MinMaxScaler(); total time=   0.0s\n",
      "[CV] END classifier__n_neighbors=12, classifier__weights=uniform, scaler=MinMaxScaler(); total time=   0.0s\n",
      "[CV] END classifier__n_neighbors=12, classifier__weights=uniform, scaler=MinMaxScaler(); total time=   0.0s\n",
      "[CV] END classifier__n_neighbors=12, classifier__weights=uniform, scaler=StandardScaler(); total time=   0.0s\n",
      "[CV] END classifier__n_neighbors=12, classifier__weights=uniform, scaler=StandardScaler(); total time=   0.0s\n",
      "[CV] END classifier__n_neighbors=12, classifier__weights=uniform, scaler=StandardScaler(); total time=   0.0s\n",
      "[CV] END classifier__n_neighbors=12, classifier__weights=uniform, scaler=StandardScaler(); total time=   0.0s\n",
      "[CV] END classifier__n_neighbors=12, classifier__weights=uniform, scaler=StandardScaler(); total time=   0.0s\n",
      "[CV] END classifier__n_neighbors=12, classifier__weights=uniform, scaler=None; total time=   0.0s\n",
      "[CV] END classifier__n_neighbors=12, classifier__weights=uniform, scaler=None; total time=   0.0s\n",
      "[CV] END classifier__n_neighbors=12, classifier__weights=uniform, scaler=None; total time=   0.0s\n",
      "[CV] END classifier__n_neighbors=12, classifier__weights=uniform, scaler=None; total time=   0.0s\n",
      "[CV] END classifier__n_neighbors=12, classifier__weights=uniform, scaler=None; total time=   0.0s\n",
      "[CV] END classifier__n_neighbors=12, classifier__weights=distance, scaler=MinMaxScaler(); total time=   0.0s\n",
      "[CV] END classifier__n_neighbors=12, classifier__weights=distance, scaler=MinMaxScaler(); total time=   0.0s\n",
      "[CV] END classifier__n_neighbors=12, classifier__weights=distance, scaler=MinMaxScaler(); total time=   0.0s\n",
      "[CV] END classifier__n_neighbors=12, classifier__weights=distance, scaler=MinMaxScaler(); total time=   0.0s\n",
      "[CV] END classifier__n_neighbors=12, classifier__weights=distance, scaler=MinMaxScaler(); total time=   0.0s\n",
      "[CV] END classifier__n_neighbors=12, classifier__weights=distance, scaler=StandardScaler(); total time=   0.0s\n",
      "[CV] END classifier__n_neighbors=12, classifier__weights=distance, scaler=StandardScaler(); total time=   0.0s\n",
      "[CV] END classifier__n_neighbors=12, classifier__weights=distance, scaler=StandardScaler(); total time=   0.0s\n",
      "[CV] END classifier__n_neighbors=12, classifier__weights=distance, scaler=StandardScaler(); total time=   0.0s\n",
      "[CV] END classifier__n_neighbors=12, classifier__weights=distance, scaler=StandardScaler(); total time=   0.0s\n",
      "[CV] END classifier__n_neighbors=12, classifier__weights=distance, scaler=None; total time=   0.0s\n",
      "[CV] END classifier__n_neighbors=12, classifier__weights=distance, scaler=None; total time=   0.0s\n",
      "[CV] END classifier__n_neighbors=12, classifier__weights=distance, scaler=None; total time=   0.0s\n",
      "[CV] END classifier__n_neighbors=12, classifier__weights=distance, scaler=None; total time=   0.0s\n",
      "[CV] END classifier__n_neighbors=12, classifier__weights=distance, scaler=None; total time=   0.0s\n",
      "[CV] END classifier__n_neighbors=13, classifier__weights=uniform, scaler=MinMaxScaler(); total time=   0.0s\n",
      "[CV] END classifier__n_neighbors=13, classifier__weights=uniform, scaler=MinMaxScaler(); total time=   0.0s\n",
      "[CV] END classifier__n_neighbors=13, classifier__weights=uniform, scaler=MinMaxScaler(); total time=   0.0s\n",
      "[CV] END classifier__n_neighbors=13, classifier__weights=uniform, scaler=MinMaxScaler(); total time=   0.0s\n",
      "[CV] END classifier__n_neighbors=13, classifier__weights=uniform, scaler=MinMaxScaler(); total time=   0.0s\n",
      "[CV] END classifier__n_neighbors=13, classifier__weights=uniform, scaler=StandardScaler(); total time=   0.0s\n",
      "[CV] END classifier__n_neighbors=13, classifier__weights=uniform, scaler=StandardScaler(); total time=   0.0s\n",
      "[CV] END classifier__n_neighbors=13, classifier__weights=uniform, scaler=StandardScaler(); total time=   0.0s\n",
      "[CV] END classifier__n_neighbors=13, classifier__weights=uniform, scaler=StandardScaler(); total time=   0.0s\n",
      "[CV] END classifier__n_neighbors=13, classifier__weights=uniform, scaler=StandardScaler(); total time=   0.0s\n",
      "[CV] END classifier__n_neighbors=13, classifier__weights=uniform, scaler=None; total time=   0.0s\n",
      "[CV] END classifier__n_neighbors=13, classifier__weights=uniform, scaler=None; total time=   0.0s\n",
      "[CV] END classifier__n_neighbors=13, classifier__weights=uniform, scaler=None; total time=   0.0s\n",
      "[CV] END classifier__n_neighbors=13, classifier__weights=uniform, scaler=None; total time=   0.0s\n",
      "[CV] END classifier__n_neighbors=13, classifier__weights=uniform, scaler=None; total time=   0.0s\n",
      "[CV] END classifier__n_neighbors=13, classifier__weights=distance, scaler=MinMaxScaler(); total time=   0.0s\n",
      "[CV] END classifier__n_neighbors=13, classifier__weights=distance, scaler=MinMaxScaler(); total time=   0.0s\n",
      "[CV] END classifier__n_neighbors=13, classifier__weights=distance, scaler=MinMaxScaler(); total time=   0.0s\n",
      "[CV] END classifier__n_neighbors=13, classifier__weights=distance, scaler=MinMaxScaler(); total time=   0.0s\n",
      "[CV] END classifier__n_neighbors=13, classifier__weights=distance, scaler=MinMaxScaler(); total time=   0.0s\n",
      "[CV] END classifier__n_neighbors=13, classifier__weights=distance, scaler=StandardScaler(); total time=   0.0s\n",
      "[CV] END classifier__n_neighbors=13, classifier__weights=distance, scaler=StandardScaler(); total time=   0.0s\n",
      "[CV] END classifier__n_neighbors=13, classifier__weights=distance, scaler=StandardScaler(); total time=   0.0s\n",
      "[CV] END classifier__n_neighbors=13, classifier__weights=distance, scaler=StandardScaler(); total time=   0.0s\n",
      "[CV] END classifier__n_neighbors=13, classifier__weights=distance, scaler=StandardScaler(); total time=   0.0s\n",
      "[CV] END classifier__n_neighbors=13, classifier__weights=distance, scaler=None; total time=   0.0s\n",
      "[CV] END classifier__n_neighbors=13, classifier__weights=distance, scaler=None; total time=   0.0s\n",
      "[CV] END classifier__n_neighbors=13, classifier__weights=distance, scaler=None; total time=   0.0s\n",
      "[CV] END classifier__n_neighbors=13, classifier__weights=distance, scaler=None; total time=   0.0s\n",
      "[CV] END classifier__n_neighbors=13, classifier__weights=distance, scaler=None; total time=   0.0s\n",
      "[CV] END classifier__n_neighbors=14, classifier__weights=uniform, scaler=MinMaxScaler(); total time=   0.0s\n",
      "[CV] END classifier__n_neighbors=14, classifier__weights=uniform, scaler=MinMaxScaler(); total time=   0.0s\n",
      "[CV] END classifier__n_neighbors=14, classifier__weights=uniform, scaler=MinMaxScaler(); total time=   0.0s\n",
      "[CV] END classifier__n_neighbors=14, classifier__weights=uniform, scaler=MinMaxScaler(); total time=   0.0s\n",
      "[CV] END classifier__n_neighbors=14, classifier__weights=uniform, scaler=MinMaxScaler(); total time=   0.0s\n",
      "[CV] END classifier__n_neighbors=14, classifier__weights=uniform, scaler=StandardScaler(); total time=   0.0s\n",
      "[CV] END classifier__n_neighbors=14, classifier__weights=uniform, scaler=StandardScaler(); total time=   0.0s\n",
      "[CV] END classifier__n_neighbors=14, classifier__weights=uniform, scaler=StandardScaler(); total time=   0.0s\n",
      "[CV] END classifier__n_neighbors=14, classifier__weights=uniform, scaler=StandardScaler(); total time=   0.0s\n",
      "[CV] END classifier__n_neighbors=14, classifier__weights=uniform, scaler=StandardScaler(); total time=   0.0s\n",
      "[CV] END classifier__n_neighbors=14, classifier__weights=uniform, scaler=None; total time=   0.0s\n",
      "[CV] END classifier__n_neighbors=14, classifier__weights=uniform, scaler=None; total time=   0.0s\n",
      "[CV] END classifier__n_neighbors=14, classifier__weights=uniform, scaler=None; total time=   0.0s\n",
      "[CV] END classifier__n_neighbors=14, classifier__weights=uniform, scaler=None; total time=   0.0s\n",
      "[CV] END classifier__n_neighbors=14, classifier__weights=uniform, scaler=None; total time=   0.0s\n",
      "[CV] END classifier__n_neighbors=14, classifier__weights=distance, scaler=MinMaxScaler(); total time=   0.0s\n",
      "[CV] END classifier__n_neighbors=14, classifier__weights=distance, scaler=MinMaxScaler(); total time=   0.0s\n",
      "[CV] END classifier__n_neighbors=14, classifier__weights=distance, scaler=MinMaxScaler(); total time=   0.0s\n",
      "[CV] END classifier__n_neighbors=14, classifier__weights=distance, scaler=MinMaxScaler(); total time=   0.0s\n",
      "[CV] END classifier__n_neighbors=14, classifier__weights=distance, scaler=MinMaxScaler(); total time=   0.0s\n",
      "[CV] END classifier__n_neighbors=14, classifier__weights=distance, scaler=StandardScaler(); total time=   0.0s\n",
      "[CV] END classifier__n_neighbors=14, classifier__weights=distance, scaler=StandardScaler(); total time=   0.0s\n",
      "[CV] END classifier__n_neighbors=14, classifier__weights=distance, scaler=StandardScaler(); total time=   0.0s\n",
      "[CV] END classifier__n_neighbors=14, classifier__weights=distance, scaler=StandardScaler(); total time=   0.0s\n",
      "[CV] END classifier__n_neighbors=14, classifier__weights=distance, scaler=StandardScaler(); total time=   0.0s\n",
      "[CV] END classifier__n_neighbors=14, classifier__weights=distance, scaler=None; total time=   0.0s\n",
      "[CV] END classifier__n_neighbors=14, classifier__weights=distance, scaler=None; total time=   0.0s\n",
      "[CV] END classifier__n_neighbors=14, classifier__weights=distance, scaler=None; total time=   0.0s\n",
      "[CV] END classifier__n_neighbors=14, classifier__weights=distance, scaler=None; total time=   0.0s\n",
      "[CV] END classifier__n_neighbors=14, classifier__weights=distance, scaler=None; total time=   0.0s\n",
      "[CV] END classifier__n_neighbors=15, classifier__weights=uniform, scaler=MinMaxScaler(); total time=   0.0s\n",
      "[CV] END classifier__n_neighbors=15, classifier__weights=uniform, scaler=MinMaxScaler(); total time=   0.0s\n",
      "[CV] END classifier__n_neighbors=15, classifier__weights=uniform, scaler=MinMaxScaler(); total time=   0.0s\n",
      "[CV] END classifier__n_neighbors=15, classifier__weights=uniform, scaler=MinMaxScaler(); total time=   0.0s\n",
      "[CV] END classifier__n_neighbors=15, classifier__weights=uniform, scaler=MinMaxScaler(); total time=   0.0s\n",
      "[CV] END classifier__n_neighbors=15, classifier__weights=uniform, scaler=StandardScaler(); total time=   0.0s\n",
      "[CV] END classifier__n_neighbors=15, classifier__weights=uniform, scaler=StandardScaler(); total time=   0.0s\n",
      "[CV] END classifier__n_neighbors=15, classifier__weights=uniform, scaler=StandardScaler(); total time=   0.0s\n",
      "[CV] END classifier__n_neighbors=15, classifier__weights=uniform, scaler=StandardScaler(); total time=   0.0s\n",
      "[CV] END classifier__n_neighbors=15, classifier__weights=uniform, scaler=StandardScaler(); total time=   0.0s\n",
      "[CV] END classifier__n_neighbors=15, classifier__weights=uniform, scaler=None; total time=   0.0s\n",
      "[CV] END classifier__n_neighbors=15, classifier__weights=uniform, scaler=None; total time=   0.0s\n",
      "[CV] END classifier__n_neighbors=15, classifier__weights=uniform, scaler=None; total time=   0.0s\n",
      "[CV] END classifier__n_neighbors=15, classifier__weights=uniform, scaler=None; total time=   0.0s\n",
      "[CV] END classifier__n_neighbors=15, classifier__weights=uniform, scaler=None; total time=   0.0s\n",
      "[CV] END classifier__n_neighbors=15, classifier__weights=distance, scaler=MinMaxScaler(); total time=   0.0s\n",
      "[CV] END classifier__n_neighbors=15, classifier__weights=distance, scaler=MinMaxScaler(); total time=   0.0s\n",
      "[CV] END classifier__n_neighbors=15, classifier__weights=distance, scaler=MinMaxScaler(); total time=   0.0s\n",
      "[CV] END classifier__n_neighbors=15, classifier__weights=distance, scaler=MinMaxScaler(); total time=   0.0s\n",
      "[CV] END classifier__n_neighbors=15, classifier__weights=distance, scaler=MinMaxScaler(); total time=   0.0s\n",
      "[CV] END classifier__n_neighbors=15, classifier__weights=distance, scaler=StandardScaler(); total time=   0.0s\n",
      "[CV] END classifier__n_neighbors=15, classifier__weights=distance, scaler=StandardScaler(); total time=   0.0s\n",
      "[CV] END classifier__n_neighbors=15, classifier__weights=distance, scaler=StandardScaler(); total time=   0.0s\n",
      "[CV] END classifier__n_neighbors=15, classifier__weights=distance, scaler=StandardScaler(); total time=   0.0s\n",
      "[CV] END classifier__n_neighbors=15, classifier__weights=distance, scaler=StandardScaler(); total time=   0.0s\n",
      "[CV] END classifier__n_neighbors=15, classifier__weights=distance, scaler=None; total time=   0.0s\n",
      "[CV] END classifier__n_neighbors=15, classifier__weights=distance, scaler=None; total time=   0.0s\n",
      "[CV] END classifier__n_neighbors=15, classifier__weights=distance, scaler=None; total time=   0.0s\n",
      "[CV] END classifier__n_neighbors=15, classifier__weights=distance, scaler=None; total time=   0.0s\n",
      "[CV] END classifier__n_neighbors=15, classifier__weights=distance, scaler=None; total time=   0.0s\n",
      "[CV] END classifier__n_neighbors=16, classifier__weights=uniform, scaler=MinMaxScaler(); total time=   0.0s\n",
      "[CV] END classifier__n_neighbors=16, classifier__weights=uniform, scaler=MinMaxScaler(); total time=   0.0s\n",
      "[CV] END classifier__n_neighbors=16, classifier__weights=uniform, scaler=MinMaxScaler(); total time=   0.0s\n",
      "[CV] END classifier__n_neighbors=16, classifier__weights=uniform, scaler=MinMaxScaler(); total time=   0.0s\n",
      "[CV] END classifier__n_neighbors=16, classifier__weights=uniform, scaler=MinMaxScaler(); total time=   0.0s\n",
      "[CV] END classifier__n_neighbors=16, classifier__weights=uniform, scaler=StandardScaler(); total time=   0.0s\n",
      "[CV] END classifier__n_neighbors=16, classifier__weights=uniform, scaler=StandardScaler(); total time=   0.0s\n",
      "[CV] END classifier__n_neighbors=16, classifier__weights=uniform, scaler=StandardScaler(); total time=   0.0s\n",
      "[CV] END classifier__n_neighbors=16, classifier__weights=uniform, scaler=StandardScaler(); total time=   0.0s\n",
      "[CV] END classifier__n_neighbors=16, classifier__weights=uniform, scaler=StandardScaler(); total time=   0.0s\n",
      "[CV] END classifier__n_neighbors=16, classifier__weights=uniform, scaler=None; total time=   0.0s\n",
      "[CV] END classifier__n_neighbors=16, classifier__weights=uniform, scaler=None; total time=   0.0s\n",
      "[CV] END classifier__n_neighbors=16, classifier__weights=uniform, scaler=None; total time=   0.0s\n",
      "[CV] END classifier__n_neighbors=16, classifier__weights=uniform, scaler=None; total time=   0.0s\n",
      "[CV] END classifier__n_neighbors=16, classifier__weights=uniform, scaler=None; total time=   0.0s\n",
      "[CV] END classifier__n_neighbors=16, classifier__weights=distance, scaler=MinMaxScaler(); total time=   0.0s\n",
      "[CV] END classifier__n_neighbors=16, classifier__weights=distance, scaler=MinMaxScaler(); total time=   0.0s\n",
      "[CV] END classifier__n_neighbors=16, classifier__weights=distance, scaler=MinMaxScaler(); total time=   0.0s\n",
      "[CV] END classifier__n_neighbors=16, classifier__weights=distance, scaler=MinMaxScaler(); total time=   0.0s\n",
      "[CV] END classifier__n_neighbors=16, classifier__weights=distance, scaler=MinMaxScaler(); total time=   0.0s\n",
      "[CV] END classifier__n_neighbors=16, classifier__weights=distance, scaler=StandardScaler(); total time=   0.0s\n",
      "[CV] END classifier__n_neighbors=16, classifier__weights=distance, scaler=StandardScaler(); total time=   0.0s\n",
      "[CV] END classifier__n_neighbors=16, classifier__weights=distance, scaler=StandardScaler(); total time=   0.0s\n",
      "[CV] END classifier__n_neighbors=16, classifier__weights=distance, scaler=StandardScaler(); total time=   0.0s\n",
      "[CV] END classifier__n_neighbors=16, classifier__weights=distance, scaler=StandardScaler(); total time=   0.0s\n",
      "[CV] END classifier__n_neighbors=16, classifier__weights=distance, scaler=None; total time=   0.0s\n",
      "[CV] END classifier__n_neighbors=16, classifier__weights=distance, scaler=None; total time=   0.0s\n",
      "[CV] END classifier__n_neighbors=16, classifier__weights=distance, scaler=None; total time=   0.0s\n",
      "[CV] END classifier__n_neighbors=16, classifier__weights=distance, scaler=None; total time=   0.0s\n",
      "[CV] END classifier__n_neighbors=16, classifier__weights=distance, scaler=None; total time=   0.0s\n",
      "[CV] END classifier__n_neighbors=17, classifier__weights=uniform, scaler=MinMaxScaler(); total time=   0.0s\n",
      "[CV] END classifier__n_neighbors=17, classifier__weights=uniform, scaler=MinMaxScaler(); total time=   0.0s\n",
      "[CV] END classifier__n_neighbors=17, classifier__weights=uniform, scaler=MinMaxScaler(); total time=   0.0s\n",
      "[CV] END classifier__n_neighbors=17, classifier__weights=uniform, scaler=MinMaxScaler(); total time=   0.0s\n",
      "[CV] END classifier__n_neighbors=17, classifier__weights=uniform, scaler=MinMaxScaler(); total time=   0.0s\n",
      "[CV] END classifier__n_neighbors=17, classifier__weights=uniform, scaler=StandardScaler(); total time=   0.0s\n",
      "[CV] END classifier__n_neighbors=17, classifier__weights=uniform, scaler=StandardScaler(); total time=   0.0s\n",
      "[CV] END classifier__n_neighbors=17, classifier__weights=uniform, scaler=StandardScaler(); total time=   0.0s\n",
      "[CV] END classifier__n_neighbors=17, classifier__weights=uniform, scaler=StandardScaler(); total time=   0.0s\n",
      "[CV] END classifier__n_neighbors=17, classifier__weights=uniform, scaler=StandardScaler(); total time=   0.0s\n",
      "[CV] END classifier__n_neighbors=17, classifier__weights=uniform, scaler=None; total time=   0.0s\n",
      "[CV] END classifier__n_neighbors=17, classifier__weights=uniform, scaler=None; total time=   0.0s\n",
      "[CV] END classifier__n_neighbors=17, classifier__weights=uniform, scaler=None; total time=   0.0s\n",
      "[CV] END classifier__n_neighbors=17, classifier__weights=uniform, scaler=None; total time=   0.0s\n",
      "[CV] END classifier__n_neighbors=17, classifier__weights=uniform, scaler=None; total time=   0.0s\n",
      "[CV] END classifier__n_neighbors=17, classifier__weights=distance, scaler=MinMaxScaler(); total time=   0.0s\n",
      "[CV] END classifier__n_neighbors=17, classifier__weights=distance, scaler=MinMaxScaler(); total time=   0.0s\n",
      "[CV] END classifier__n_neighbors=17, classifier__weights=distance, scaler=MinMaxScaler(); total time=   0.0s\n",
      "[CV] END classifier__n_neighbors=17, classifier__weights=distance, scaler=MinMaxScaler(); total time=   0.0s\n",
      "[CV] END classifier__n_neighbors=17, classifier__weights=distance, scaler=MinMaxScaler(); total time=   0.0s\n",
      "[CV] END classifier__n_neighbors=17, classifier__weights=distance, scaler=StandardScaler(); total time=   0.0s\n",
      "[CV] END classifier__n_neighbors=17, classifier__weights=distance, scaler=StandardScaler(); total time=   0.0s\n",
      "[CV] END classifier__n_neighbors=17, classifier__weights=distance, scaler=StandardScaler(); total time=   0.0s\n",
      "[CV] END classifier__n_neighbors=17, classifier__weights=distance, scaler=StandardScaler(); total time=   0.0s\n",
      "[CV] END classifier__n_neighbors=17, classifier__weights=distance, scaler=StandardScaler(); total time=   0.0s\n",
      "[CV] END classifier__n_neighbors=17, classifier__weights=distance, scaler=None; total time=   0.0s\n",
      "[CV] END classifier__n_neighbors=17, classifier__weights=distance, scaler=None; total time=   0.0s\n",
      "[CV] END classifier__n_neighbors=17, classifier__weights=distance, scaler=None; total time=   0.0s\n",
      "[CV] END classifier__n_neighbors=17, classifier__weights=distance, scaler=None; total time=   0.0s\n",
      "[CV] END classifier__n_neighbors=17, classifier__weights=distance, scaler=None; total time=   0.0s\n",
      "[CV] END classifier__n_neighbors=18, classifier__weights=uniform, scaler=MinMaxScaler(); total time=   0.0s\n",
      "[CV] END classifier__n_neighbors=18, classifier__weights=uniform, scaler=MinMaxScaler(); total time=   0.0s\n",
      "[CV] END classifier__n_neighbors=18, classifier__weights=uniform, scaler=MinMaxScaler(); total time=   0.0s\n",
      "[CV] END classifier__n_neighbors=18, classifier__weights=uniform, scaler=MinMaxScaler(); total time=   0.0s\n",
      "[CV] END classifier__n_neighbors=18, classifier__weights=uniform, scaler=MinMaxScaler(); total time=   0.0s\n",
      "[CV] END classifier__n_neighbors=18, classifier__weights=uniform, scaler=StandardScaler(); total time=   0.0s\n",
      "[CV] END classifier__n_neighbors=18, classifier__weights=uniform, scaler=StandardScaler(); total time=   0.0s\n",
      "[CV] END classifier__n_neighbors=18, classifier__weights=uniform, scaler=StandardScaler(); total time=   0.0s\n",
      "[CV] END classifier__n_neighbors=18, classifier__weights=uniform, scaler=StandardScaler(); total time=   0.0s\n",
      "[CV] END classifier__n_neighbors=18, classifier__weights=uniform, scaler=StandardScaler(); total time=   0.0s\n",
      "[CV] END classifier__n_neighbors=18, classifier__weights=uniform, scaler=None; total time=   0.0s\n",
      "[CV] END classifier__n_neighbors=18, classifier__weights=uniform, scaler=None; total time=   0.0s\n",
      "[CV] END classifier__n_neighbors=18, classifier__weights=uniform, scaler=None; total time=   0.0s\n",
      "[CV] END classifier__n_neighbors=18, classifier__weights=uniform, scaler=None; total time=   0.0s\n",
      "[CV] END classifier__n_neighbors=18, classifier__weights=uniform, scaler=None; total time=   0.0s\n",
      "[CV] END classifier__n_neighbors=18, classifier__weights=distance, scaler=MinMaxScaler(); total time=   0.0s\n",
      "[CV] END classifier__n_neighbors=18, classifier__weights=distance, scaler=MinMaxScaler(); total time=   0.0s\n",
      "[CV] END classifier__n_neighbors=18, classifier__weights=distance, scaler=MinMaxScaler(); total time=   0.0s\n",
      "[CV] END classifier__n_neighbors=18, classifier__weights=distance, scaler=MinMaxScaler(); total time=   0.0s\n",
      "[CV] END classifier__n_neighbors=18, classifier__weights=distance, scaler=MinMaxScaler(); total time=   0.0s\n",
      "[CV] END classifier__n_neighbors=18, classifier__weights=distance, scaler=StandardScaler(); total time=   0.0s\n",
      "[CV] END classifier__n_neighbors=18, classifier__weights=distance, scaler=StandardScaler(); total time=   0.0s\n",
      "[CV] END classifier__n_neighbors=18, classifier__weights=distance, scaler=StandardScaler(); total time=   0.0s\n",
      "[CV] END classifier__n_neighbors=18, classifier__weights=distance, scaler=StandardScaler(); total time=   0.0s\n",
      "[CV] END classifier__n_neighbors=18, classifier__weights=distance, scaler=StandardScaler(); total time=   0.0s\n",
      "[CV] END classifier__n_neighbors=18, classifier__weights=distance, scaler=None; total time=   0.0s\n",
      "[CV] END classifier__n_neighbors=18, classifier__weights=distance, scaler=None; total time=   0.0s\n",
      "[CV] END classifier__n_neighbors=18, classifier__weights=distance, scaler=None; total time=   0.0s\n",
      "[CV] END classifier__n_neighbors=18, classifier__weights=distance, scaler=None; total time=   0.0s\n",
      "[CV] END classifier__n_neighbors=18, classifier__weights=distance, scaler=None; total time=   0.0s\n",
      "[CV] END classifier__n_neighbors=19, classifier__weights=uniform, scaler=MinMaxScaler(); total time=   0.0s\n",
      "[CV] END classifier__n_neighbors=19, classifier__weights=uniform, scaler=MinMaxScaler(); total time=   0.0s\n",
      "[CV] END classifier__n_neighbors=19, classifier__weights=uniform, scaler=MinMaxScaler(); total time=   0.0s\n",
      "[CV] END classifier__n_neighbors=19, classifier__weights=uniform, scaler=MinMaxScaler(); total time=   0.0s\n",
      "[CV] END classifier__n_neighbors=19, classifier__weights=uniform, scaler=MinMaxScaler(); total time=   0.0s\n",
      "[CV] END classifier__n_neighbors=19, classifier__weights=uniform, scaler=StandardScaler(); total time=   0.0s\n",
      "[CV] END classifier__n_neighbors=19, classifier__weights=uniform, scaler=StandardScaler(); total time=   0.0s\n",
      "[CV] END classifier__n_neighbors=19, classifier__weights=uniform, scaler=StandardScaler(); total time=   0.0s\n",
      "[CV] END classifier__n_neighbors=19, classifier__weights=uniform, scaler=StandardScaler(); total time=   0.0s\n",
      "[CV] END classifier__n_neighbors=19, classifier__weights=uniform, scaler=StandardScaler(); total time=   0.0s\n",
      "[CV] END classifier__n_neighbors=19, classifier__weights=uniform, scaler=None; total time=   0.0s\n",
      "[CV] END classifier__n_neighbors=19, classifier__weights=uniform, scaler=None; total time=   0.0s\n",
      "[CV] END classifier__n_neighbors=19, classifier__weights=uniform, scaler=None; total time=   0.0s\n",
      "[CV] END classifier__n_neighbors=19, classifier__weights=uniform, scaler=None; total time=   0.0s\n",
      "[CV] END classifier__n_neighbors=19, classifier__weights=uniform, scaler=None; total time=   0.0s\n",
      "[CV] END classifier__n_neighbors=19, classifier__weights=distance, scaler=MinMaxScaler(); total time=   0.0s\n",
      "[CV] END classifier__n_neighbors=19, classifier__weights=distance, scaler=MinMaxScaler(); total time=   0.0s\n",
      "[CV] END classifier__n_neighbors=19, classifier__weights=distance, scaler=MinMaxScaler(); total time=   0.0s\n",
      "[CV] END classifier__n_neighbors=19, classifier__weights=distance, scaler=MinMaxScaler(); total time=   0.0s\n",
      "[CV] END classifier__n_neighbors=19, classifier__weights=distance, scaler=MinMaxScaler(); total time=   0.0s\n",
      "[CV] END classifier__n_neighbors=19, classifier__weights=distance, scaler=StandardScaler(); total time=   0.0s\n",
      "[CV] END classifier__n_neighbors=19, classifier__weights=distance, scaler=StandardScaler(); total time=   0.0s\n",
      "[CV] END classifier__n_neighbors=19, classifier__weights=distance, scaler=StandardScaler(); total time=   0.0s\n",
      "[CV] END classifier__n_neighbors=19, classifier__weights=distance, scaler=StandardScaler(); total time=   0.0s\n",
      "[CV] END classifier__n_neighbors=19, classifier__weights=distance, scaler=StandardScaler(); total time=   0.0s\n",
      "[CV] END classifier__n_neighbors=19, classifier__weights=distance, scaler=None; total time=   0.0s\n",
      "[CV] END classifier__n_neighbors=19, classifier__weights=distance, scaler=None; total time=   0.0s\n",
      "[CV] END classifier__n_neighbors=19, classifier__weights=distance, scaler=None; total time=   0.0s\n",
      "[CV] END classifier__n_neighbors=19, classifier__weights=distance, scaler=None; total time=   0.0s\n",
      "[CV] END classifier__n_neighbors=19, classifier__weights=distance, scaler=None; total time=   0.0s\n",
      "[CV] END classifier__n_neighbors=20, classifier__weights=uniform, scaler=MinMaxScaler(); total time=   0.0s\n",
      "[CV] END classifier__n_neighbors=20, classifier__weights=uniform, scaler=MinMaxScaler(); total time=   0.0s\n",
      "[CV] END classifier__n_neighbors=20, classifier__weights=uniform, scaler=MinMaxScaler(); total time=   0.0s\n",
      "[CV] END classifier__n_neighbors=20, classifier__weights=uniform, scaler=MinMaxScaler(); total time=   0.0s\n",
      "[CV] END classifier__n_neighbors=20, classifier__weights=uniform, scaler=MinMaxScaler(); total time=   0.0s\n",
      "[CV] END classifier__n_neighbors=20, classifier__weights=uniform, scaler=StandardScaler(); total time=   0.0s\n",
      "[CV] END classifier__n_neighbors=20, classifier__weights=uniform, scaler=StandardScaler(); total time=   0.0s\n",
      "[CV] END classifier__n_neighbors=20, classifier__weights=uniform, scaler=StandardScaler(); total time=   0.0s\n",
      "[CV] END classifier__n_neighbors=20, classifier__weights=uniform, scaler=StandardScaler(); total time=   0.0s\n",
      "[CV] END classifier__n_neighbors=20, classifier__weights=uniform, scaler=StandardScaler(); total time=   0.0s\n",
      "[CV] END classifier__n_neighbors=20, classifier__weights=uniform, scaler=None; total time=   0.0s\n",
      "[CV] END classifier__n_neighbors=20, classifier__weights=uniform, scaler=None; total time=   0.0s\n",
      "[CV] END classifier__n_neighbors=20, classifier__weights=uniform, scaler=None; total time=   0.0s\n",
      "[CV] END classifier__n_neighbors=20, classifier__weights=uniform, scaler=None; total time=   0.0s\n",
      "[CV] END classifier__n_neighbors=20, classifier__weights=uniform, scaler=None; total time=   0.0s\n",
      "[CV] END classifier__n_neighbors=20, classifier__weights=distance, scaler=MinMaxScaler(); total time=   0.0s\n",
      "[CV] END classifier__n_neighbors=20, classifier__weights=distance, scaler=MinMaxScaler(); total time=   0.0s\n",
      "[CV] END classifier__n_neighbors=20, classifier__weights=distance, scaler=MinMaxScaler(); total time=   0.0s\n",
      "[CV] END classifier__n_neighbors=20, classifier__weights=distance, scaler=MinMaxScaler(); total time=   0.0s\n",
      "[CV] END classifier__n_neighbors=20, classifier__weights=distance, scaler=MinMaxScaler(); total time=   0.0s\n",
      "[CV] END classifier__n_neighbors=20, classifier__weights=distance, scaler=StandardScaler(); total time=   0.0s\n",
      "[CV] END classifier__n_neighbors=20, classifier__weights=distance, scaler=StandardScaler(); total time=   0.0s\n",
      "[CV] END classifier__n_neighbors=20, classifier__weights=distance, scaler=StandardScaler(); total time=   0.0s\n",
      "[CV] END classifier__n_neighbors=20, classifier__weights=distance, scaler=StandardScaler(); total time=   0.0s\n",
      "[CV] END classifier__n_neighbors=20, classifier__weights=distance, scaler=StandardScaler(); total time=   0.0s\n",
      "[CV] END classifier__n_neighbors=20, classifier__weights=distance, scaler=None; total time=   0.0s\n",
      "[CV] END classifier__n_neighbors=20, classifier__weights=distance, scaler=None; total time=   0.0s\n",
      "[CV] END classifier__n_neighbors=20, classifier__weights=distance, scaler=None; total time=   0.0s\n",
      "[CV] END classifier__n_neighbors=20, classifier__weights=distance, scaler=None; total time=   0.0s\n",
      "[CV] END classifier__n_neighbors=20, classifier__weights=distance, scaler=None; total time=   0.0s\n",
      "[CV] END classifier__n_neighbors=21, classifier__weights=uniform, scaler=MinMaxScaler(); total time=   0.0s\n",
      "[CV] END classifier__n_neighbors=21, classifier__weights=uniform, scaler=MinMaxScaler(); total time=   0.0s\n",
      "[CV] END classifier__n_neighbors=21, classifier__weights=uniform, scaler=MinMaxScaler(); total time=   0.0s\n",
      "[CV] END classifier__n_neighbors=21, classifier__weights=uniform, scaler=MinMaxScaler(); total time=   0.0s\n",
      "[CV] END classifier__n_neighbors=21, classifier__weights=uniform, scaler=MinMaxScaler(); total time=   0.0s\n",
      "[CV] END classifier__n_neighbors=21, classifier__weights=uniform, scaler=StandardScaler(); total time=   0.0s\n",
      "[CV] END classifier__n_neighbors=21, classifier__weights=uniform, scaler=StandardScaler(); total time=   0.0s\n",
      "[CV] END classifier__n_neighbors=21, classifier__weights=uniform, scaler=StandardScaler(); total time=   0.0s\n",
      "[CV] END classifier__n_neighbors=21, classifier__weights=uniform, scaler=StandardScaler(); total time=   0.0s\n",
      "[CV] END classifier__n_neighbors=21, classifier__weights=uniform, scaler=StandardScaler(); total time=   0.0s\n",
      "[CV] END classifier__n_neighbors=21, classifier__weights=uniform, scaler=None; total time=   0.0s\n",
      "[CV] END classifier__n_neighbors=21, classifier__weights=uniform, scaler=None; total time=   0.0s\n",
      "[CV] END classifier__n_neighbors=21, classifier__weights=uniform, scaler=None; total time=   0.0s\n",
      "[CV] END classifier__n_neighbors=21, classifier__weights=uniform, scaler=None; total time=   0.0s\n",
      "[CV] END classifier__n_neighbors=21, classifier__weights=uniform, scaler=None; total time=   0.0s\n",
      "[CV] END classifier__n_neighbors=21, classifier__weights=distance, scaler=MinMaxScaler(); total time=   0.0s\n",
      "[CV] END classifier__n_neighbors=21, classifier__weights=distance, scaler=MinMaxScaler(); total time=   0.0s\n",
      "[CV] END classifier__n_neighbors=21, classifier__weights=distance, scaler=MinMaxScaler(); total time=   0.0s\n",
      "[CV] END classifier__n_neighbors=21, classifier__weights=distance, scaler=MinMaxScaler(); total time=   0.0s\n",
      "[CV] END classifier__n_neighbors=21, classifier__weights=distance, scaler=MinMaxScaler(); total time=   0.0s\n",
      "[CV] END classifier__n_neighbors=21, classifier__weights=distance, scaler=StandardScaler(); total time=   0.0s\n",
      "[CV] END classifier__n_neighbors=21, classifier__weights=distance, scaler=StandardScaler(); total time=   0.0s\n",
      "[CV] END classifier__n_neighbors=21, classifier__weights=distance, scaler=StandardScaler(); total time=   0.0s\n",
      "[CV] END classifier__n_neighbors=21, classifier__weights=distance, scaler=StandardScaler(); total time=   0.0s\n",
      "[CV] END classifier__n_neighbors=21, classifier__weights=distance, scaler=StandardScaler(); total time=   0.0s\n",
      "[CV] END classifier__n_neighbors=21, classifier__weights=distance, scaler=None; total time=   0.0s\n",
      "[CV] END classifier__n_neighbors=21, classifier__weights=distance, scaler=None; total time=   0.0s\n",
      "[CV] END classifier__n_neighbors=21, classifier__weights=distance, scaler=None; total time=   0.0s\n",
      "[CV] END classifier__n_neighbors=21, classifier__weights=distance, scaler=None; total time=   0.0s\n",
      "[CV] END classifier__n_neighbors=21, classifier__weights=distance, scaler=None; total time=   0.0s\n"
     ]
    },
    {
     "data": {
      "text/html": [
       "<style>#sk-container-id-5 {color: black;background-color: white;}#sk-container-id-5 pre{padding: 0;}#sk-container-id-5 div.sk-toggleable {background-color: white;}#sk-container-id-5 label.sk-toggleable__label {cursor: pointer;display: block;width: 100%;margin-bottom: 0;padding: 0.3em;box-sizing: border-box;text-align: center;}#sk-container-id-5 label.sk-toggleable__label-arrow:before {content: \"▸\";float: left;margin-right: 0.25em;color: #696969;}#sk-container-id-5 label.sk-toggleable__label-arrow:hover:before {color: black;}#sk-container-id-5 div.sk-estimator:hover label.sk-toggleable__label-arrow:before {color: black;}#sk-container-id-5 div.sk-toggleable__content {max-height: 0;max-width: 0;overflow: hidden;text-align: left;background-color: #f0f8ff;}#sk-container-id-5 div.sk-toggleable__content pre {margin: 0.2em;color: black;border-radius: 0.25em;background-color: #f0f8ff;}#sk-container-id-5 input.sk-toggleable__control:checked~div.sk-toggleable__content {max-height: 200px;max-width: 100%;overflow: auto;}#sk-container-id-5 input.sk-toggleable__control:checked~label.sk-toggleable__label-arrow:before {content: \"▾\";}#sk-container-id-5 div.sk-estimator input.sk-toggleable__control:checked~label.sk-toggleable__label {background-color: #d4ebff;}#sk-container-id-5 div.sk-label input.sk-toggleable__control:checked~label.sk-toggleable__label {background-color: #d4ebff;}#sk-container-id-5 input.sk-hidden--visually {border: 0;clip: rect(1px 1px 1px 1px);clip: rect(1px, 1px, 1px, 1px);height: 1px;margin: -1px;overflow: hidden;padding: 0;position: absolute;width: 1px;}#sk-container-id-5 div.sk-estimator {font-family: monospace;background-color: #f0f8ff;border: 1px dotted black;border-radius: 0.25em;box-sizing: border-box;margin-bottom: 0.5em;}#sk-container-id-5 div.sk-estimator:hover {background-color: #d4ebff;}#sk-container-id-5 div.sk-parallel-item::after {content: \"\";width: 100%;border-bottom: 1px solid gray;flex-grow: 1;}#sk-container-id-5 div.sk-label:hover label.sk-toggleable__label {background-color: #d4ebff;}#sk-container-id-5 div.sk-serial::before {content: \"\";position: absolute;border-left: 1px solid gray;box-sizing: border-box;top: 0;bottom: 0;left: 50%;z-index: 0;}#sk-container-id-5 div.sk-serial {display: flex;flex-direction: column;align-items: center;background-color: white;padding-right: 0.2em;padding-left: 0.2em;position: relative;}#sk-container-id-5 div.sk-item {position: relative;z-index: 1;}#sk-container-id-5 div.sk-parallel {display: flex;align-items: stretch;justify-content: center;background-color: white;position: relative;}#sk-container-id-5 div.sk-item::before, #sk-container-id-5 div.sk-parallel-item::before {content: \"\";position: absolute;border-left: 1px solid gray;box-sizing: border-box;top: 0;bottom: 0;left: 50%;z-index: -1;}#sk-container-id-5 div.sk-parallel-item {display: flex;flex-direction: column;z-index: 1;position: relative;background-color: white;}#sk-container-id-5 div.sk-parallel-item:first-child::after {align-self: flex-end;width: 50%;}#sk-container-id-5 div.sk-parallel-item:last-child::after {align-self: flex-start;width: 50%;}#sk-container-id-5 div.sk-parallel-item:only-child::after {width: 0;}#sk-container-id-5 div.sk-dashed-wrapped {border: 1px dashed gray;margin: 0 0.4em 0.5em 0.4em;box-sizing: border-box;padding-bottom: 0.4em;background-color: white;}#sk-container-id-5 div.sk-label label {font-family: monospace;font-weight: bold;display: inline-block;line-height: 1.2em;}#sk-container-id-5 div.sk-label-container {text-align: center;}#sk-container-id-5 div.sk-container {/* jupyter's `normalize.less` sets `[hidden] { display: none; }` but bootstrap.min.css set `[hidden] { display: none !important; }` so we also need the `!important` here to be able to override the default hidden behavior on the sphinx rendered scikit-learn.org. See: https://github.com/scikit-learn/scikit-learn/issues/21755 */display: inline-block !important;position: relative;}#sk-container-id-5 div.sk-text-repr-fallback {display: none;}</style><div id=\"sk-container-id-5\" class=\"sk-top-container\"><div class=\"sk-text-repr-fallback\"><pre>GridSearchCV(cv=5,\n",
       "             estimator=Pipeline(steps=((&#x27;scaler&#x27;, MinMaxScaler()),\n",
       "                                       (&#x27;classifier&#x27;, KNeighborsClassifier()))),\n",
       "             param_grid={&#x27;classifier__n_neighbors&#x27;: array([ 2,  3,  4,  5,  6,  7,  8,  9, 10, 11, 12, 13, 14, 15, 16, 17, 18,\n",
       "       19, 20, 21]),\n",
       "                         &#x27;classifier__weights&#x27;: [&#x27;uniform&#x27;, &#x27;distance&#x27;],\n",
       "                         &#x27;scaler&#x27;: [MinMaxScaler(), StandardScaler(), None]},\n",
       "             scoring=&#x27;accuracy&#x27;, verbose=2)</pre><b>In a Jupyter environment, please rerun this cell to show the HTML representation or trust the notebook. <br />On GitHub, the HTML representation is unable to render, please try loading this page with nbviewer.org.</b></div><div class=\"sk-container\" hidden><div class=\"sk-item sk-dashed-wrapped\"><div class=\"sk-label-container\"><div class=\"sk-label sk-toggleable\"><input class=\"sk-toggleable__control sk-hidden--visually\" id=\"sk-estimator-id-7\" type=\"checkbox\" ><label for=\"sk-estimator-id-7\" class=\"sk-toggleable__label sk-toggleable__label-arrow\">GridSearchCV</label><div class=\"sk-toggleable__content\"><pre>GridSearchCV(cv=5,\n",
       "             estimator=Pipeline(steps=((&#x27;scaler&#x27;, MinMaxScaler()),\n",
       "                                       (&#x27;classifier&#x27;, KNeighborsClassifier()))),\n",
       "             param_grid={&#x27;classifier__n_neighbors&#x27;: array([ 2,  3,  4,  5,  6,  7,  8,  9, 10, 11, 12, 13, 14, 15, 16, 17, 18,\n",
       "       19, 20, 21]),\n",
       "                         &#x27;classifier__weights&#x27;: [&#x27;uniform&#x27;, &#x27;distance&#x27;],\n",
       "                         &#x27;scaler&#x27;: [MinMaxScaler(), StandardScaler(), None]},\n",
       "             scoring=&#x27;accuracy&#x27;, verbose=2)</pre></div></div></div><div class=\"sk-parallel\"><div class=\"sk-parallel-item\"><div class=\"sk-item\"><div class=\"sk-label-container\"><div class=\"sk-label sk-toggleable\"><input class=\"sk-toggleable__control sk-hidden--visually\" id=\"sk-estimator-id-8\" type=\"checkbox\" ><label for=\"sk-estimator-id-8\" class=\"sk-toggleable__label sk-toggleable__label-arrow\">estimator: Pipeline</label><div class=\"sk-toggleable__content\"><pre>Pipeline(steps=((&#x27;scaler&#x27;, MinMaxScaler()),\n",
       "                (&#x27;classifier&#x27;, KNeighborsClassifier())))</pre></div></div></div><div class=\"sk-serial\"><div class=\"sk-item\"><div class=\"sk-serial\"><div class=\"sk-item\"><div class=\"sk-estimator sk-toggleable\"><input class=\"sk-toggleable__control sk-hidden--visually\" id=\"sk-estimator-id-9\" type=\"checkbox\" ><label for=\"sk-estimator-id-9\" class=\"sk-toggleable__label sk-toggleable__label-arrow\">MinMaxScaler</label><div class=\"sk-toggleable__content\"><pre>MinMaxScaler()</pre></div></div></div><div class=\"sk-item\"><div class=\"sk-estimator sk-toggleable\"><input class=\"sk-toggleable__control sk-hidden--visually\" id=\"sk-estimator-id-10\" type=\"checkbox\" ><label for=\"sk-estimator-id-10\" class=\"sk-toggleable__label sk-toggleable__label-arrow\">KNeighborsClassifier</label><div class=\"sk-toggleable__content\"><pre>KNeighborsClassifier()</pre></div></div></div></div></div></div></div></div></div></div></div></div>"
      ],
      "text/plain": [
       "GridSearchCV(cv=5,\n",
       "             estimator=Pipeline(steps=(('scaler', MinMaxScaler()),\n",
       "                                       ('classifier', KNeighborsClassifier()))),\n",
       "             param_grid={'classifier__n_neighbors': array([ 2,  3,  4,  5,  6,  7,  8,  9, 10, 11, 12, 13, 14, 15, 16, 17, 18,\n",
       "       19, 20, 21]),\n",
       "                         'classifier__weights': ['uniform', 'distance'],\n",
       "                         'scaler': [MinMaxScaler(), StandardScaler(), None]},\n",
       "             scoring='accuracy', verbose=2)"
      ]
     },
     "execution_count": 44,
     "metadata": {},
     "output_type": "execute_result"
    }
   ],
   "source": [
    "gs_pipe.fit(X_train, y_train)"
   ]
  },
  {
   "cell_type": "code",
   "execution_count": 45,
   "metadata": {},
   "outputs": [
    {
     "name": "stdout",
     "output_type": "stream",
     "text": [
      "0.8878048780487806\n",
      "{'classifier__n_neighbors': 7, 'classifier__weights': 'uniform', 'scaler': MinMaxScaler()}\n",
      "Pipeline(steps=[('scaler', MinMaxScaler()),\n",
      "                ('classifier', KNeighborsClassifier(n_neighbors=7))])\n"
     ]
    }
   ],
   "source": [
    "print(gs_pipe.best_score_)\n",
    "print(gs_pipe.best_params_)\n",
    "print(gs_pipe.best_estimator_)"
   ]
  },
  {
   "cell_type": "code",
   "execution_count": 46,
   "metadata": {},
   "outputs": [
    {
     "name": "stdout",
     "output_type": "stream",
     "text": [
      "accuracy_score 0.8269230769230769\n"
     ]
    }
   ],
   "source": [
    "final_model = gs_pipe.best_estimator_\n",
    "final_model.fit(X_train, y_train)\n",
    "y_pred = final_model.predict(X_test)\n",
    "print(\"accuracy_score\", accuracy_score(y_test, y_pred))"
   ]
  },
  {
   "attachments": {},
   "cell_type": "markdown",
   "metadata": {},
   "source": [
    "## Predice con nuevos datos.\n",
    "Ejemplo: supongamos que nos llega una review de 5 palabras y sentimiento 1"
   ]
  },
  {
   "cell_type": "code",
   "execution_count": 47,
   "metadata": {},
   "outputs": [
    {
     "data": {
      "text/html": [
       "<style>#sk-container-id-6 {color: black;background-color: white;}#sk-container-id-6 pre{padding: 0;}#sk-container-id-6 div.sk-toggleable {background-color: white;}#sk-container-id-6 label.sk-toggleable__label {cursor: pointer;display: block;width: 100%;margin-bottom: 0;padding: 0.3em;box-sizing: border-box;text-align: center;}#sk-container-id-6 label.sk-toggleable__label-arrow:before {content: \"▸\";float: left;margin-right: 0.25em;color: #696969;}#sk-container-id-6 label.sk-toggleable__label-arrow:hover:before {color: black;}#sk-container-id-6 div.sk-estimator:hover label.sk-toggleable__label-arrow:before {color: black;}#sk-container-id-6 div.sk-toggleable__content {max-height: 0;max-width: 0;overflow: hidden;text-align: left;background-color: #f0f8ff;}#sk-container-id-6 div.sk-toggleable__content pre {margin: 0.2em;color: black;border-radius: 0.25em;background-color: #f0f8ff;}#sk-container-id-6 input.sk-toggleable__control:checked~div.sk-toggleable__content {max-height: 200px;max-width: 100%;overflow: auto;}#sk-container-id-6 input.sk-toggleable__control:checked~label.sk-toggleable__label-arrow:before {content: \"▾\";}#sk-container-id-6 div.sk-estimator input.sk-toggleable__control:checked~label.sk-toggleable__label {background-color: #d4ebff;}#sk-container-id-6 div.sk-label input.sk-toggleable__control:checked~label.sk-toggleable__label {background-color: #d4ebff;}#sk-container-id-6 input.sk-hidden--visually {border: 0;clip: rect(1px 1px 1px 1px);clip: rect(1px, 1px, 1px, 1px);height: 1px;margin: -1px;overflow: hidden;padding: 0;position: absolute;width: 1px;}#sk-container-id-6 div.sk-estimator {font-family: monospace;background-color: #f0f8ff;border: 1px dotted black;border-radius: 0.25em;box-sizing: border-box;margin-bottom: 0.5em;}#sk-container-id-6 div.sk-estimator:hover {background-color: #d4ebff;}#sk-container-id-6 div.sk-parallel-item::after {content: \"\";width: 100%;border-bottom: 1px solid gray;flex-grow: 1;}#sk-container-id-6 div.sk-label:hover label.sk-toggleable__label {background-color: #d4ebff;}#sk-container-id-6 div.sk-serial::before {content: \"\";position: absolute;border-left: 1px solid gray;box-sizing: border-box;top: 0;bottom: 0;left: 50%;z-index: 0;}#sk-container-id-6 div.sk-serial {display: flex;flex-direction: column;align-items: center;background-color: white;padding-right: 0.2em;padding-left: 0.2em;position: relative;}#sk-container-id-6 div.sk-item {position: relative;z-index: 1;}#sk-container-id-6 div.sk-parallel {display: flex;align-items: stretch;justify-content: center;background-color: white;position: relative;}#sk-container-id-6 div.sk-item::before, #sk-container-id-6 div.sk-parallel-item::before {content: \"\";position: absolute;border-left: 1px solid gray;box-sizing: border-box;top: 0;bottom: 0;left: 50%;z-index: -1;}#sk-container-id-6 div.sk-parallel-item {display: flex;flex-direction: column;z-index: 1;position: relative;background-color: white;}#sk-container-id-6 div.sk-parallel-item:first-child::after {align-self: flex-end;width: 50%;}#sk-container-id-6 div.sk-parallel-item:last-child::after {align-self: flex-start;width: 50%;}#sk-container-id-6 div.sk-parallel-item:only-child::after {width: 0;}#sk-container-id-6 div.sk-dashed-wrapped {border: 1px dashed gray;margin: 0 0.4em 0.5em 0.4em;box-sizing: border-box;padding-bottom: 0.4em;background-color: white;}#sk-container-id-6 div.sk-label label {font-family: monospace;font-weight: bold;display: inline-block;line-height: 1.2em;}#sk-container-id-6 div.sk-label-container {text-align: center;}#sk-container-id-6 div.sk-container {/* jupyter's `normalize.less` sets `[hidden] { display: none; }` but bootstrap.min.css set `[hidden] { display: none !important; }` so we also need the `!important` here to be able to override the default hidden behavior on the sphinx rendered scikit-learn.org. See: https://github.com/scikit-learn/scikit-learn/issues/21755 */display: inline-block !important;position: relative;}#sk-container-id-6 div.sk-text-repr-fallback {display: none;}</style><div id=\"sk-container-id-6\" class=\"sk-top-container\"><div class=\"sk-text-repr-fallback\"><pre>Pipeline(steps=[(&#x27;scaler&#x27;, MinMaxScaler()),\n",
       "                (&#x27;classifier&#x27;, KNeighborsClassifier(n_neighbors=7))])</pre><b>In a Jupyter environment, please rerun this cell to show the HTML representation or trust the notebook. <br />On GitHub, the HTML representation is unable to render, please try loading this page with nbviewer.org.</b></div><div class=\"sk-container\" hidden><div class=\"sk-item sk-dashed-wrapped\"><div class=\"sk-label-container\"><div class=\"sk-label sk-toggleable\"><input class=\"sk-toggleable__control sk-hidden--visually\" id=\"sk-estimator-id-11\" type=\"checkbox\" ><label for=\"sk-estimator-id-11\" class=\"sk-toggleable__label sk-toggleable__label-arrow\">Pipeline</label><div class=\"sk-toggleable__content\"><pre>Pipeline(steps=[(&#x27;scaler&#x27;, MinMaxScaler()),\n",
       "                (&#x27;classifier&#x27;, KNeighborsClassifier(n_neighbors=7))])</pre></div></div></div><div class=\"sk-serial\"><div class=\"sk-item\"><div class=\"sk-estimator sk-toggleable\"><input class=\"sk-toggleable__control sk-hidden--visually\" id=\"sk-estimator-id-12\" type=\"checkbox\" ><label for=\"sk-estimator-id-12\" class=\"sk-toggleable__label sk-toggleable__label-arrow\">MinMaxScaler</label><div class=\"sk-toggleable__content\"><pre>MinMaxScaler()</pre></div></div></div><div class=\"sk-item\"><div class=\"sk-estimator sk-toggleable\"><input class=\"sk-toggleable__control sk-hidden--visually\" id=\"sk-estimator-id-13\" type=\"checkbox\" ><label for=\"sk-estimator-id-13\" class=\"sk-toggleable__label sk-toggleable__label-arrow\">KNeighborsClassifier</label><div class=\"sk-toggleable__content\"><pre>KNeighborsClassifier(n_neighbors=7)</pre></div></div></div></div></div></div></div>"
      ],
      "text/plain": [
       "Pipeline(steps=[('scaler', MinMaxScaler()),\n",
       "                ('classifier', KNeighborsClassifier(n_neighbors=7))])"
      ]
     },
     "execution_count": 47,
     "metadata": {},
     "output_type": "execute_result"
    }
   ],
   "source": [
    "final_model"
   ]
  },
  {
   "cell_type": "code",
   "execution_count": 51,
   "metadata": {},
   "outputs": [
    {
     "name": "stderr",
     "output_type": "stream",
     "text": [
      "c:\\Users\\Miguel Angel\\AppData\\Local\\Programs\\Python\\Python311\\Lib\\site-packages\\sklearn\\base.py:439: UserWarning: X does not have valid feature names, but MinMaxScaler was fitted with feature names\n",
      "  warnings.warn(\n"
     ]
    },
    {
     "data": {
      "text/plain": [
       "array([3], dtype=int64)"
      ]
     },
     "execution_count": 51,
     "metadata": {},
     "output_type": "execute_result"
    }
   ],
   "source": [
    "final_model.predict([[10,0]])"
   ]
  }
 ],
 "metadata": {
  "kernelspec": {
   "display_name": "Python 3",
   "language": "python",
   "name": "python3"
  },
  "language_info": {
   "codemirror_mode": {
    "name": "ipython",
    "version": 3
   },
   "file_extension": ".py",
   "mimetype": "text/x-python",
   "name": "python",
   "nbconvert_exporter": "python",
   "pygments_lexer": "ipython3",
   "version": "3.11.3"
  },
  "vscode": {
   "interpreter": {
    "hash": "703e8db34bb7cdd00b82a89d91d2e2137d3ce887601c5554b79c7f8766c7193f"
   }
  }
 },
 "nbformat": 4,
 "nbformat_minor": 4
}
